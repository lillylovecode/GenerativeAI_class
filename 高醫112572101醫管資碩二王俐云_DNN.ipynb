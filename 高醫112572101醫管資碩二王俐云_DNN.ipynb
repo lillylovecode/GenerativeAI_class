{
  "nbformat": 4,
  "nbformat_minor": 0,
  "metadata": {
    "anaconda-cloud": {},
    "colab": {
      "provenance": [],
      "include_colab_link": true
    },
    "kernelspec": {
      "display_name": "Python 3",
      "name": "python3"
    },
    "language_info": {
      "name": "python"
    },
    "widgets": {
      "application/vnd.jupyter.widget-state+json": {
        "52debc241b29458a95f970feb529b2bc": {
          "model_module": "@jupyter-widgets/controls",
          "model_name": "VBoxModel",
          "model_module_version": "1.5.0",
          "state": {
            "_dom_classes": [
              "widget-interact"
            ],
            "_model_module": "@jupyter-widgets/controls",
            "_model_module_version": "1.5.0",
            "_model_name": "VBoxModel",
            "_view_count": null,
            "_view_module": "@jupyter-widgets/controls",
            "_view_module_version": "1.5.0",
            "_view_name": "VBoxView",
            "box_style": "",
            "children": [
              "IPY_MODEL_ebf0fbdf71b747a9b92601652428ea0a",
              "IPY_MODEL_7b0544785fff442d964d851ff8153139",
              "IPY_MODEL_4e95ae35de3c454bac71c20f7a3fb3c1"
            ],
            "layout": "IPY_MODEL_5a7c41e212d949d7b45ba919f9b2e405"
          }
        },
        "ebf0fbdf71b747a9b92601652428ea0a": {
          "model_module": "@jupyter-widgets/controls",
          "model_name": "IntSliderModel",
          "model_module_version": "1.5.0",
          "state": {
            "_dom_classes": [],
            "_model_module": "@jupyter-widgets/controls",
            "_model_module_version": "1.5.0",
            "_model_name": "IntSliderModel",
            "_view_count": null,
            "_view_module": "@jupyter-widgets/controls",
            "_view_module_version": "1.5.0",
            "_view_name": "IntSliderView",
            "continuous_update": true,
            "description": "測試編號",
            "description_tooltip": null,
            "disabled": false,
            "layout": "IPY_MODEL_fc4ecc346d25462896ffc9afe094cf7c",
            "max": 9999,
            "min": 0,
            "orientation": "horizontal",
            "readout": true,
            "readout_format": "d",
            "step": 1,
            "style": "IPY_MODEL_116f228c0fa544c8b00b60d92700ea74",
            "value": 9999
          }
        },
        "7b0544785fff442d964d851ff8153139": {
          "model_module": "@jupyter-widgets/controls",
          "model_name": "ButtonModel",
          "model_module_version": "1.5.0",
          "state": {
            "_dom_classes": [],
            "_model_module": "@jupyter-widgets/controls",
            "_model_module_version": "1.5.0",
            "_model_name": "ButtonModel",
            "_view_count": null,
            "_view_module": "@jupyter-widgets/controls",
            "_view_module_version": "1.5.0",
            "_view_name": "ButtonView",
            "button_style": "",
            "description": "Run Interact",
            "disabled": false,
            "icon": "",
            "layout": "IPY_MODEL_2631f009e98e4fdab6a1a2e222c412ce",
            "style": "IPY_MODEL_1e58c01920994845b9e50dfbff6c84a4",
            "tooltip": ""
          }
        },
        "4e95ae35de3c454bac71c20f7a3fb3c1": {
          "model_module": "@jupyter-widgets/output",
          "model_name": "OutputModel",
          "model_module_version": "1.0.0",
          "state": {
            "_dom_classes": [],
            "_model_module": "@jupyter-widgets/output",
            "_model_module_version": "1.0.0",
            "_model_name": "OutputModel",
            "_view_count": null,
            "_view_module": "@jupyter-widgets/output",
            "_view_module_version": "1.0.0",
            "_view_name": "OutputView",
            "layout": "IPY_MODEL_d8abd18b05924f01833a53ce1e4fc352",
            "msg_id": "",
            "outputs": [
              {
                "output_type": "stream",
                "name": "stdout",
                "text": [
                  "神經網路判斷為: 6\n"
                ]
              },
              {
                "output_type": "display_data",
                "data": {
                  "text/plain": "<Figure size 640x480 with 1 Axes>",
                  "image/png": "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\n"
                },
                "metadata": {}
              }
            ]
          }
        },
        "5a7c41e212d949d7b45ba919f9b2e405": {
          "model_module": "@jupyter-widgets/base",
          "model_name": "LayoutModel",
          "model_module_version": "1.2.0",
          "state": {
            "_model_module": "@jupyter-widgets/base",
            "_model_module_version": "1.2.0",
            "_model_name": "LayoutModel",
            "_view_count": null,
            "_view_module": "@jupyter-widgets/base",
            "_view_module_version": "1.2.0",
            "_view_name": "LayoutView",
            "align_content": null,
            "align_items": null,
            "align_self": null,
            "border": null,
            "bottom": null,
            "display": null,
            "flex": null,
            "flex_flow": null,
            "grid_area": null,
            "grid_auto_columns": null,
            "grid_auto_flow": null,
            "grid_auto_rows": null,
            "grid_column": null,
            "grid_gap": null,
            "grid_row": null,
            "grid_template_areas": null,
            "grid_template_columns": null,
            "grid_template_rows": null,
            "height": null,
            "justify_content": null,
            "justify_items": null,
            "left": null,
            "margin": null,
            "max_height": null,
            "max_width": null,
            "min_height": null,
            "min_width": null,
            "object_fit": null,
            "object_position": null,
            "order": null,
            "overflow": null,
            "overflow_x": null,
            "overflow_y": null,
            "padding": null,
            "right": null,
            "top": null,
            "visibility": null,
            "width": null
          }
        },
        "fc4ecc346d25462896ffc9afe094cf7c": {
          "model_module": "@jupyter-widgets/base",
          "model_name": "LayoutModel",
          "model_module_version": "1.2.0",
          "state": {
            "_model_module": "@jupyter-widgets/base",
            "_model_module_version": "1.2.0",
            "_model_name": "LayoutModel",
            "_view_count": null,
            "_view_module": "@jupyter-widgets/base",
            "_view_module_version": "1.2.0",
            "_view_name": "LayoutView",
            "align_content": null,
            "align_items": null,
            "align_self": null,
            "border": null,
            "bottom": null,
            "display": null,
            "flex": null,
            "flex_flow": null,
            "grid_area": null,
            "grid_auto_columns": null,
            "grid_auto_flow": null,
            "grid_auto_rows": null,
            "grid_column": null,
            "grid_gap": null,
            "grid_row": null,
            "grid_template_areas": null,
            "grid_template_columns": null,
            "grid_template_rows": null,
            "height": null,
            "justify_content": null,
            "justify_items": null,
            "left": null,
            "margin": null,
            "max_height": null,
            "max_width": null,
            "min_height": null,
            "min_width": null,
            "object_fit": null,
            "object_position": null,
            "order": null,
            "overflow": null,
            "overflow_x": null,
            "overflow_y": null,
            "padding": null,
            "right": null,
            "top": null,
            "visibility": null,
            "width": null
          }
        },
        "116f228c0fa544c8b00b60d92700ea74": {
          "model_module": "@jupyter-widgets/controls",
          "model_name": "SliderStyleModel",
          "model_module_version": "1.5.0",
          "state": {
            "_model_module": "@jupyter-widgets/controls",
            "_model_module_version": "1.5.0",
            "_model_name": "SliderStyleModel",
            "_view_count": null,
            "_view_module": "@jupyter-widgets/base",
            "_view_module_version": "1.2.0",
            "_view_name": "StyleView",
            "description_width": "",
            "handle_color": null
          }
        },
        "2631f009e98e4fdab6a1a2e222c412ce": {
          "model_module": "@jupyter-widgets/base",
          "model_name": "LayoutModel",
          "model_module_version": "1.2.0",
          "state": {
            "_model_module": "@jupyter-widgets/base",
            "_model_module_version": "1.2.0",
            "_model_name": "LayoutModel",
            "_view_count": null,
            "_view_module": "@jupyter-widgets/base",
            "_view_module_version": "1.2.0",
            "_view_name": "LayoutView",
            "align_content": null,
            "align_items": null,
            "align_self": null,
            "border": null,
            "bottom": null,
            "display": null,
            "flex": null,
            "flex_flow": null,
            "grid_area": null,
            "grid_auto_columns": null,
            "grid_auto_flow": null,
            "grid_auto_rows": null,
            "grid_column": null,
            "grid_gap": null,
            "grid_row": null,
            "grid_template_areas": null,
            "grid_template_columns": null,
            "grid_template_rows": null,
            "height": null,
            "justify_content": null,
            "justify_items": null,
            "left": null,
            "margin": null,
            "max_height": null,
            "max_width": null,
            "min_height": null,
            "min_width": null,
            "object_fit": null,
            "object_position": null,
            "order": null,
            "overflow": null,
            "overflow_x": null,
            "overflow_y": null,
            "padding": null,
            "right": null,
            "top": null,
            "visibility": null,
            "width": null
          }
        },
        "1e58c01920994845b9e50dfbff6c84a4": {
          "model_module": "@jupyter-widgets/controls",
          "model_name": "ButtonStyleModel",
          "model_module_version": "1.5.0",
          "state": {
            "_model_module": "@jupyter-widgets/controls",
            "_model_module_version": "1.5.0",
            "_model_name": "ButtonStyleModel",
            "_view_count": null,
            "_view_module": "@jupyter-widgets/base",
            "_view_module_version": "1.2.0",
            "_view_name": "StyleView",
            "button_color": null,
            "font_weight": ""
          }
        },
        "d8abd18b05924f01833a53ce1e4fc352": {
          "model_module": "@jupyter-widgets/base",
          "model_name": "LayoutModel",
          "model_module_version": "1.2.0",
          "state": {
            "_model_module": "@jupyter-widgets/base",
            "_model_module_version": "1.2.0",
            "_model_name": "LayoutModel",
            "_view_count": null,
            "_view_module": "@jupyter-widgets/base",
            "_view_module_version": "1.2.0",
            "_view_name": "LayoutView",
            "align_content": null,
            "align_items": null,
            "align_self": null,
            "border": null,
            "bottom": null,
            "display": null,
            "flex": null,
            "flex_flow": null,
            "grid_area": null,
            "grid_auto_columns": null,
            "grid_auto_flow": null,
            "grid_auto_rows": null,
            "grid_column": null,
            "grid_gap": null,
            "grid_row": null,
            "grid_template_areas": null,
            "grid_template_columns": null,
            "grid_template_rows": null,
            "height": null,
            "justify_content": null,
            "justify_items": null,
            "left": null,
            "margin": null,
            "max_height": null,
            "max_width": null,
            "min_height": null,
            "min_width": null,
            "object_fit": null,
            "object_position": null,
            "order": null,
            "overflow": null,
            "overflow_x": null,
            "overflow_y": null,
            "padding": null,
            "right": null,
            "top": null,
            "visibility": null,
            "width": null
          }
        },
        "c6f345334ecd476497e130e03ff64f63": {
          "model_module": "@jupyter-widgets/controls",
          "model_name": "VBoxModel",
          "model_module_version": "1.5.0",
          "state": {
            "_dom_classes": [
              "widget-interact"
            ],
            "_model_module": "@jupyter-widgets/controls",
            "_model_module_version": "1.5.0",
            "_model_name": "VBoxModel",
            "_view_count": null,
            "_view_module": "@jupyter-widgets/controls",
            "_view_module_version": "1.5.0",
            "_view_name": "VBoxView",
            "box_style": "",
            "children": [
              "IPY_MODEL_b7767091b92b421e9fde3a8ba91c5101",
              "IPY_MODEL_1458e80f0db241c6a0b31a50911d78cb",
              "IPY_MODEL_7f14d9114a984164a2917ba351326dfa"
            ],
            "layout": "IPY_MODEL_38b5ae10849848abb227874f9e9a30ea"
          }
        },
        "b7767091b92b421e9fde3a8ba91c5101": {
          "model_module": "@jupyter-widgets/controls",
          "model_name": "IntSliderModel",
          "model_module_version": "1.5.0",
          "state": {
            "_dom_classes": [],
            "_model_module": "@jupyter-widgets/controls",
            "_model_module_version": "1.5.0",
            "_model_name": "IntSliderModel",
            "_view_count": null,
            "_view_module": "@jupyter-widgets/controls",
            "_view_module_version": "1.5.0",
            "_view_name": "IntSliderView",
            "continuous_update": true,
            "description": "n",
            "description_tooltip": null,
            "disabled": false,
            "layout": "IPY_MODEL_6d50369104c343a28268742f8bbf1d40",
            "max": 59999,
            "min": 0,
            "orientation": "horizontal",
            "readout": true,
            "readout_format": "d",
            "step": 1,
            "style": "IPY_MODEL_638f88eef62a4dc0b17f46230c011ac4",
            "value": 100
          }
        },
        "1458e80f0db241c6a0b31a50911d78cb": {
          "model_module": "@jupyter-widgets/controls",
          "model_name": "ButtonModel",
          "model_module_version": "1.5.0",
          "state": {
            "_dom_classes": [],
            "_model_module": "@jupyter-widgets/controls",
            "_model_module_version": "1.5.0",
            "_model_name": "ButtonModel",
            "_view_count": null,
            "_view_module": "@jupyter-widgets/controls",
            "_view_module_version": "1.5.0",
            "_view_name": "ButtonView",
            "button_style": "",
            "description": "Run Interact",
            "disabled": false,
            "icon": "",
            "layout": "IPY_MODEL_6e29243e98784810b8b32f8943056525",
            "style": "IPY_MODEL_bfd3a77302ed421ca945cebde3015669",
            "tooltip": ""
          }
        },
        "7f14d9114a984164a2917ba351326dfa": {
          "model_module": "@jupyter-widgets/output",
          "model_name": "OutputModel",
          "model_module_version": "1.0.0",
          "state": {
            "_dom_classes": [],
            "_model_module": "@jupyter-widgets/output",
            "_model_module_version": "1.0.0",
            "_model_name": "OutputModel",
            "_view_count": null,
            "_view_module": "@jupyter-widgets/output",
            "_view_module_version": "1.0.0",
            "_view_name": "OutputView",
            "layout": "IPY_MODEL_5a02b9ae8b834416bdb2ae4618a83116",
            "msg_id": "",
            "outputs": []
          }
        },
        "38b5ae10849848abb227874f9e9a30ea": {
          "model_module": "@jupyter-widgets/base",
          "model_name": "LayoutModel",
          "model_module_version": "1.2.0",
          "state": {
            "_model_module": "@jupyter-widgets/base",
            "_model_module_version": "1.2.0",
            "_model_name": "LayoutModel",
            "_view_count": null,
            "_view_module": "@jupyter-widgets/base",
            "_view_module_version": "1.2.0",
            "_view_name": "LayoutView",
            "align_content": null,
            "align_items": null,
            "align_self": null,
            "border": null,
            "bottom": null,
            "display": null,
            "flex": null,
            "flex_flow": null,
            "grid_area": null,
            "grid_auto_columns": null,
            "grid_auto_flow": null,
            "grid_auto_rows": null,
            "grid_column": null,
            "grid_gap": null,
            "grid_row": null,
            "grid_template_areas": null,
            "grid_template_columns": null,
            "grid_template_rows": null,
            "height": null,
            "justify_content": null,
            "justify_items": null,
            "left": null,
            "margin": null,
            "max_height": null,
            "max_width": null,
            "min_height": null,
            "min_width": null,
            "object_fit": null,
            "object_position": null,
            "order": null,
            "overflow": null,
            "overflow_x": null,
            "overflow_y": null,
            "padding": null,
            "right": null,
            "top": null,
            "visibility": null,
            "width": null
          }
        },
        "6d50369104c343a28268742f8bbf1d40": {
          "model_module": "@jupyter-widgets/base",
          "model_name": "LayoutModel",
          "model_module_version": "1.2.0",
          "state": {
            "_model_module": "@jupyter-widgets/base",
            "_model_module_version": "1.2.0",
            "_model_name": "LayoutModel",
            "_view_count": null,
            "_view_module": "@jupyter-widgets/base",
            "_view_module_version": "1.2.0",
            "_view_name": "LayoutView",
            "align_content": null,
            "align_items": null,
            "align_self": null,
            "border": null,
            "bottom": null,
            "display": null,
            "flex": null,
            "flex_flow": null,
            "grid_area": null,
            "grid_auto_columns": null,
            "grid_auto_flow": null,
            "grid_auto_rows": null,
            "grid_column": null,
            "grid_gap": null,
            "grid_row": null,
            "grid_template_areas": null,
            "grid_template_columns": null,
            "grid_template_rows": null,
            "height": null,
            "justify_content": null,
            "justify_items": null,
            "left": null,
            "margin": null,
            "max_height": null,
            "max_width": null,
            "min_height": null,
            "min_width": null,
            "object_fit": null,
            "object_position": null,
            "order": null,
            "overflow": null,
            "overflow_x": null,
            "overflow_y": null,
            "padding": null,
            "right": null,
            "top": null,
            "visibility": null,
            "width": null
          }
        },
        "638f88eef62a4dc0b17f46230c011ac4": {
          "model_module": "@jupyter-widgets/controls",
          "model_name": "SliderStyleModel",
          "model_module_version": "1.5.0",
          "state": {
            "_model_module": "@jupyter-widgets/controls",
            "_model_module_version": "1.5.0",
            "_model_name": "SliderStyleModel",
            "_view_count": null,
            "_view_module": "@jupyter-widgets/base",
            "_view_module_version": "1.2.0",
            "_view_name": "StyleView",
            "description_width": "",
            "handle_color": null
          }
        },
        "6e29243e98784810b8b32f8943056525": {
          "model_module": "@jupyter-widgets/base",
          "model_name": "LayoutModel",
          "model_module_version": "1.2.0",
          "state": {
            "_model_module": "@jupyter-widgets/base",
            "_model_module_version": "1.2.0",
            "_model_name": "LayoutModel",
            "_view_count": null,
            "_view_module": "@jupyter-widgets/base",
            "_view_module_version": "1.2.0",
            "_view_name": "LayoutView",
            "align_content": null,
            "align_items": null,
            "align_self": null,
            "border": null,
            "bottom": null,
            "display": null,
            "flex": null,
            "flex_flow": null,
            "grid_area": null,
            "grid_auto_columns": null,
            "grid_auto_flow": null,
            "grid_auto_rows": null,
            "grid_column": null,
            "grid_gap": null,
            "grid_row": null,
            "grid_template_areas": null,
            "grid_template_columns": null,
            "grid_template_rows": null,
            "height": null,
            "justify_content": null,
            "justify_items": null,
            "left": null,
            "margin": null,
            "max_height": null,
            "max_width": null,
            "min_height": null,
            "min_width": null,
            "object_fit": null,
            "object_position": null,
            "order": null,
            "overflow": null,
            "overflow_x": null,
            "overflow_y": null,
            "padding": null,
            "right": null,
            "top": null,
            "visibility": null,
            "width": null
          }
        },
        "bfd3a77302ed421ca945cebde3015669": {
          "model_module": "@jupyter-widgets/controls",
          "model_name": "ButtonStyleModel",
          "model_module_version": "1.5.0",
          "state": {
            "_model_module": "@jupyter-widgets/controls",
            "_model_module_version": "1.5.0",
            "_model_name": "ButtonStyleModel",
            "_view_count": null,
            "_view_module": "@jupyter-widgets/base",
            "_view_module_version": "1.2.0",
            "_view_name": "StyleView",
            "button_color": null,
            "font_weight": ""
          }
        },
        "5a02b9ae8b834416bdb2ae4618a83116": {
          "model_module": "@jupyter-widgets/base",
          "model_name": "LayoutModel",
          "model_module_version": "1.2.0",
          "state": {
            "_model_module": "@jupyter-widgets/base",
            "_model_module_version": "1.2.0",
            "_model_name": "LayoutModel",
            "_view_count": null,
            "_view_module": "@jupyter-widgets/base",
            "_view_module_version": "1.2.0",
            "_view_name": "LayoutView",
            "align_content": null,
            "align_items": null,
            "align_self": null,
            "border": null,
            "bottom": null,
            "display": null,
            "flex": null,
            "flex_flow": null,
            "grid_area": null,
            "grid_auto_columns": null,
            "grid_auto_flow": null,
            "grid_auto_rows": null,
            "grid_column": null,
            "grid_gap": null,
            "grid_row": null,
            "grid_template_areas": null,
            "grid_template_columns": null,
            "grid_template_rows": null,
            "height": null,
            "justify_content": null,
            "justify_items": null,
            "left": null,
            "margin": null,
            "max_height": null,
            "max_width": null,
            "min_height": null,
            "min_width": null,
            "object_fit": null,
            "object_position": null,
            "order": null,
            "overflow": null,
            "overflow_x": null,
            "overflow_y": null,
            "padding": null,
            "right": null,
            "top": null,
            "visibility": null,
            "width": null
          }
        }
      }
    },
    "accelerator": "GPU"
  },
  "cells": [
    {
      "cell_type": "markdown",
      "metadata": {
        "id": "view-in-github",
        "colab_type": "text"
      },
      "source": [
        "<a href=\"https://colab.research.google.com/github/lillylovecode/GenerativeAI_class/blob/main/%E9%AB%98%E9%86%AB112572101%E9%86%AB%E7%AE%A1%E8%B3%87%E7%A2%A9%E4%BA%8C%E7%8E%8B%E4%BF%90%E4%BA%91_DNN.ipynb\" target=\"_parent\"><img src=\"https://colab.research.google.com/assets/colab-badge.svg\" alt=\"Open In Colab\"/></a>"
      ]
    },
    {
      "cell_type": "markdown",
      "metadata": {
        "id": "peN7YRgV0Ave"
      },
      "source": [
        "## 作業題目： 製作手寫辨識的神經網路模型\n",
        "範例：3層深度學習, 設第一層 N1 神經元, 第二層 N2, 第三層 N3\n",
        "\n",
        "嘗試一： 5層深度學習\n",
        "\n",
        "嘗試二： 2層深度學習"
      ]
    },
    {
      "cell_type": "code",
      "source": [
        "\"\"\"範例\"\"\"\n",
        "# N1 = 20\n",
        "# N2 = 20\n",
        "# N3 = 20\n",
        "\n",
        "\"\"\"test01\"\"\"\n",
        "# N1 = 160\n",
        "# N2 = 80\n",
        "# N3 = 40\n",
        "# N4 = 20\n",
        "# N5 = 10\n",
        "\n",
        "\"\"\"test02\"\"\"\n",
        "N1 = 160 #增加第一層訓練神經元\n",
        "N2 = 10"
      ],
      "metadata": {
        "id": "4Nh6oQpK2Y5W"
      },
      "execution_count": null,
      "outputs": []
    },
    {
      "cell_type": "markdown",
      "metadata": {
        "id": "RkYdA5re0Ave"
      },
      "source": [
        "## 1. 讀入套件\n",
        "\n",
        "讀入web應用程式套件"
      ]
    },
    {
      "cell_type": "code",
      "source": [
        "!pip install gradio"
      ],
      "metadata": {
        "colab": {
          "base_uri": "https://localhost:8080/"
        },
        "id": "fdIz5z2klW4S",
        "outputId": "10449795-835d-42be-c2f4-e6c4c3449814"
      },
      "execution_count": null,
      "outputs": [
        {
          "output_type": "stream",
          "name": "stdout",
          "text": [
            "Requirement already satisfied: gradio in /usr/local/lib/python3.11/dist-packages (5.20.0)\n",
            "Requirement already satisfied: aiofiles<24.0,>=22.0 in /usr/local/lib/python3.11/dist-packages (from gradio) (23.2.1)\n",
            "Requirement already satisfied: anyio<5.0,>=3.0 in /usr/local/lib/python3.11/dist-packages (from gradio) (3.7.1)\n",
            "Requirement already satisfied: fastapi<1.0,>=0.115.2 in /usr/local/lib/python3.11/dist-packages (from gradio) (0.115.11)\n",
            "Requirement already satisfied: ffmpy in /usr/local/lib/python3.11/dist-packages (from gradio) (0.5.0)\n",
            "Requirement already satisfied: gradio-client==1.7.2 in /usr/local/lib/python3.11/dist-packages (from gradio) (1.7.2)\n",
            "Requirement already satisfied: groovy~=0.1 in /usr/local/lib/python3.11/dist-packages (from gradio) (0.1.2)\n",
            "Requirement already satisfied: httpx>=0.24.1 in /usr/local/lib/python3.11/dist-packages (from gradio) (0.28.1)\n",
            "Requirement already satisfied: huggingface-hub>=0.28.1 in /usr/local/lib/python3.11/dist-packages (from gradio) (0.28.1)\n",
            "Requirement already satisfied: jinja2<4.0 in /usr/local/lib/python3.11/dist-packages (from gradio) (3.1.5)\n",
            "Requirement already satisfied: markupsafe~=2.0 in /usr/local/lib/python3.11/dist-packages (from gradio) (2.1.5)\n",
            "Requirement already satisfied: numpy<3.0,>=1.0 in /usr/local/lib/python3.11/dist-packages (from gradio) (1.26.4)\n",
            "Requirement already satisfied: orjson~=3.0 in /usr/local/lib/python3.11/dist-packages (from gradio) (3.10.15)\n",
            "Requirement already satisfied: packaging in /usr/local/lib/python3.11/dist-packages (from gradio) (24.2)\n",
            "Requirement already satisfied: pandas<3.0,>=1.0 in /usr/local/lib/python3.11/dist-packages (from gradio) (2.2.2)\n",
            "Requirement already satisfied: pillow<12.0,>=8.0 in /usr/local/lib/python3.11/dist-packages (from gradio) (11.1.0)\n",
            "Requirement already satisfied: pydantic>=2.0 in /usr/local/lib/python3.11/dist-packages (from gradio) (2.10.6)\n",
            "Requirement already satisfied: pydub in /usr/local/lib/python3.11/dist-packages (from gradio) (0.25.1)\n",
            "Requirement already satisfied: python-multipart>=0.0.18 in /usr/local/lib/python3.11/dist-packages (from gradio) (0.0.20)\n",
            "Requirement already satisfied: pyyaml<7.0,>=5.0 in /usr/local/lib/python3.11/dist-packages (from gradio) (6.0.2)\n",
            "Requirement already satisfied: ruff>=0.9.3 in /usr/local/lib/python3.11/dist-packages (from gradio) (0.9.9)\n",
            "Requirement already satisfied: safehttpx<0.2.0,>=0.1.6 in /usr/local/lib/python3.11/dist-packages (from gradio) (0.1.6)\n",
            "Requirement already satisfied: semantic-version~=2.0 in /usr/local/lib/python3.11/dist-packages (from gradio) (2.10.0)\n",
            "Requirement already satisfied: starlette<1.0,>=0.40.0 in /usr/local/lib/python3.11/dist-packages (from gradio) (0.46.0)\n",
            "Requirement already satisfied: tomlkit<0.14.0,>=0.12.0 in /usr/local/lib/python3.11/dist-packages (from gradio) (0.13.2)\n",
            "Requirement already satisfied: typer<1.0,>=0.12 in /usr/local/lib/python3.11/dist-packages (from gradio) (0.15.1)\n",
            "Requirement already satisfied: typing-extensions~=4.0 in /usr/local/lib/python3.11/dist-packages (from gradio) (4.12.2)\n",
            "Requirement already satisfied: uvicorn>=0.14.0 in /usr/local/lib/python3.11/dist-packages (from gradio) (0.34.0)\n",
            "Requirement already satisfied: fsspec in /usr/local/lib/python3.11/dist-packages (from gradio-client==1.7.2->gradio) (2024.10.0)\n",
            "Requirement already satisfied: websockets<16.0,>=10.0 in /usr/local/lib/python3.11/dist-packages (from gradio-client==1.7.2->gradio) (14.2)\n",
            "Requirement already satisfied: idna>=2.8 in /usr/local/lib/python3.11/dist-packages (from anyio<5.0,>=3.0->gradio) (3.10)\n",
            "Requirement already satisfied: sniffio>=1.1 in /usr/local/lib/python3.11/dist-packages (from anyio<5.0,>=3.0->gradio) (1.3.1)\n",
            "Requirement already satisfied: certifi in /usr/local/lib/python3.11/dist-packages (from httpx>=0.24.1->gradio) (2025.1.31)\n",
            "Requirement already satisfied: httpcore==1.* in /usr/local/lib/python3.11/dist-packages (from httpx>=0.24.1->gradio) (1.0.7)\n",
            "Requirement already satisfied: h11<0.15,>=0.13 in /usr/local/lib/python3.11/dist-packages (from httpcore==1.*->httpx>=0.24.1->gradio) (0.14.0)\n",
            "Requirement already satisfied: filelock in /usr/local/lib/python3.11/dist-packages (from huggingface-hub>=0.28.1->gradio) (3.17.0)\n",
            "Requirement already satisfied: requests in /usr/local/lib/python3.11/dist-packages (from huggingface-hub>=0.28.1->gradio) (2.32.3)\n",
            "Requirement already satisfied: tqdm>=4.42.1 in /usr/local/lib/python3.11/dist-packages (from huggingface-hub>=0.28.1->gradio) (4.67.1)\n",
            "Requirement already satisfied: python-dateutil>=2.8.2 in /usr/local/lib/python3.11/dist-packages (from pandas<3.0,>=1.0->gradio) (2.8.2)\n",
            "Requirement already satisfied: pytz>=2020.1 in /usr/local/lib/python3.11/dist-packages (from pandas<3.0,>=1.0->gradio) (2025.1)\n",
            "Requirement already satisfied: tzdata>=2022.7 in /usr/local/lib/python3.11/dist-packages (from pandas<3.0,>=1.0->gradio) (2025.1)\n",
            "Requirement already satisfied: annotated-types>=0.6.0 in /usr/local/lib/python3.11/dist-packages (from pydantic>=2.0->gradio) (0.7.0)\n",
            "Requirement already satisfied: pydantic-core==2.27.2 in /usr/local/lib/python3.11/dist-packages (from pydantic>=2.0->gradio) (2.27.2)\n",
            "Requirement already satisfied: click>=8.0.0 in /usr/local/lib/python3.11/dist-packages (from typer<1.0,>=0.12->gradio) (8.1.8)\n",
            "Requirement already satisfied: shellingham>=1.3.0 in /usr/local/lib/python3.11/dist-packages (from typer<1.0,>=0.12->gradio) (1.5.4)\n",
            "Requirement already satisfied: rich>=10.11.0 in /usr/local/lib/python3.11/dist-packages (from typer<1.0,>=0.12->gradio) (13.9.4)\n",
            "Requirement already satisfied: six>=1.5 in /usr/local/lib/python3.11/dist-packages (from python-dateutil>=2.8.2->pandas<3.0,>=1.0->gradio) (1.17.0)\n",
            "Requirement already satisfied: markdown-it-py>=2.2.0 in /usr/local/lib/python3.11/dist-packages (from rich>=10.11.0->typer<1.0,>=0.12->gradio) (3.0.0)\n",
            "Requirement already satisfied: pygments<3.0.0,>=2.13.0 in /usr/local/lib/python3.11/dist-packages (from rich>=10.11.0->typer<1.0,>=0.12->gradio) (2.18.0)\n",
            "Requirement already satisfied: charset-normalizer<4,>=2 in /usr/local/lib/python3.11/dist-packages (from requests->huggingface-hub>=0.28.1->gradio) (3.4.1)\n",
            "Requirement already satisfied: urllib3<3,>=1.21.1 in /usr/local/lib/python3.11/dist-packages (from requests->huggingface-hub>=0.28.1->gradio) (2.3.0)\n",
            "Requirement already satisfied: mdurl~=0.1 in /usr/local/lib/python3.11/dist-packages (from markdown-it-py>=2.2.0->rich>=10.11.0->typer<1.0,>=0.12->gradio) (0.1.2)\n"
          ]
        }
      ]
    },
    {
      "cell_type": "code",
      "metadata": {
        "id": "pEq2NFpF0Avf"
      },
      "source": [
        "#使畫圖的結果顯示在Jupyter Notebook\n",
        "%matplotlib inline\n",
        "\n",
        "# 標準數據分析、畫圖套件\n",
        "import numpy as np\n",
        "import matplotlib.pyplot as plt\n",
        "from PIL import Image\n",
        "\n",
        "# 神經網路方面\n",
        "import tensorflow as tf\n",
        "import tensorflow.keras\n",
        "from tensorflow.keras.datasets import mnist\n",
        "from tensorflow.keras.utils import to_categorical\n",
        "from tensorflow.keras.models import Sequential\n",
        "from tensorflow.keras.layers import Dense\n",
        "from tensorflow.keras.optimizers import SGD\n",
        "\n",
        "# 互動設計用\n",
        "from ipywidgets import interact_manual\n",
        "\n",
        "# 神速打造 web app 的 Gradio\n",
        "import gradio as gr"
      ],
      "execution_count": null,
      "outputs": []
    },
    {
      "cell_type": "markdown",
      "metadata": {
        "id": "yUOFB_020Avg"
      },
      "source": [
        "## 2. 讀入 MNIST 數據庫\n",
        "參考數據庫的[原始網頁](http://yann.lecun.com/exdb/mnist/)。\n"
      ]
    },
    {
      "cell_type": "markdown",
      "metadata": {
        "id": "wVSdolkn0Avg"
      },
      "source": [
        "### 2.1 由 Keras 讀入 MNIST"
      ]
    },
    {
      "cell_type": "markdown",
      "metadata": {
        "id": "b0UEBwg60Avg"
      },
      "source": [
        "直接從 Keras 下載 MNIST 數據庫, 並讀進來 (第一次要花點時間)。"
      ]
    },
    {
      "cell_type": "code",
      "metadata": {
        "id": "LKuZWeVy0Avg"
      },
      "source": [
        "(x_train, y_train), (x_test, y_test) = mnist.load_data()"
      ],
      "execution_count": null,
      "outputs": []
    },
    {
      "cell_type": "markdown",
      "metadata": {
        "id": "S9Pj2-M-0Avh"
      },
      "source": [
        "訓練資料有 6 萬筆、測試資料有 1萬筆。"
      ]
    },
    {
      "cell_type": "code",
      "metadata": {
        "colab": {
          "base_uri": "https://localhost:8080/"
        },
        "id": "Z_8DkCJC0Avh",
        "outputId": "2716191a-dd04-42eb-deaa-ee39dbd34ef9"
      },
      "source": [
        "print(f'訓練資料總筆數為 {len(x_train)} 筆資料')\n",
        "print(f'測試資料總筆數為 {len(x_test)} 筆資料')"
      ],
      "execution_count": null,
      "outputs": [
        {
          "output_type": "stream",
          "name": "stdout",
          "text": [
            "訓練資料總筆數為 60000 筆資料\n",
            "測試資料總筆數為 10000 筆資料\n"
          ]
        }
      ]
    },
    {
      "cell_type": "code",
      "source": [
        "x_train.shape #原始資料"
      ],
      "metadata": {
        "colab": {
          "base_uri": "https://localhost:8080/"
        },
        "id": "p9i40AkOpIEr",
        "outputId": "3ededd8a-0728-4731-df86-75861ecabdf4"
      },
      "execution_count": null,
      "outputs": [
        {
          "output_type": "execute_result",
          "data": {
            "text/plain": [
              "(60000, 28, 28)"
            ]
          },
          "metadata": {},
          "execution_count": 9
        }
      ]
    },
    {
      "cell_type": "code",
      "source": [
        "x_train[1234] #查看第1314筆資料"
      ],
      "metadata": {
        "colab": {
          "base_uri": "https://localhost:8080/",
          "height": 68
        },
        "id": "8C2lmXOjpVLA",
        "outputId": "68f3cc33-3371-46fa-bc6c-d0122bd9b71e"
      },
      "execution_count": null,
      "outputs": [
        {
          "output_type": "execute_result",
          "data": {
            "text/plain": [
              "array([[  0,   0,   0,   0,   0,   0,   0,   0,   0,   0,   0,   0,   0,\n",
              "          0,   0,   0,   0,   0,   0,   0,   0,   0,   0,   0,   0,   0,\n",
              "          0,   0],\n",
              "       [  0,   0,   0,   0,   0,   0,   0,   0,   0,   0,   0,   0,   0,\n",
              "          0,   0,   0,   0,   0,   0,   0,   0,   0,   0,   0,   0,   0,\n",
              "          0,   0],\n",
              "       [  0,   0,   0,   0,   0,   0,   0,   0,   0,   0,   0,   0,   0,\n",
              "          0,   0,   0,   0,   0,   0,   0,   0,   0,   0,   0,   0,   0,\n",
              "          0,   0],\n",
              "       [  0,   0,   0,   0,   0,   0,   0,   0,   0,   0,   0,   0, 149,\n",
              "        255, 129,  37,   0,   0,   0,   0,   0,   0,   0,   0,   0,   0,\n",
              "          0,   0],\n",
              "       [  0,   0,   0,   0,   0,   0,   0,   0,   0,   0,   0,   0, 149,\n",
              "        253, 252, 215,  60,   7,   0,   0,   0,   0,   0,   0,   0,   0,\n",
              "          0,   0],\n",
              "       [  0,   0,   0,   0,   0,   0,   0,   0,   0,   0,   0,   0,  53,\n",
              "        150, 249, 252, 252,  38,   0,   0,   0,   0,   0,   0,   0,   0,\n",
              "          0,   0],\n",
              "       [  0,   0,   0,   0,   0,   0,   0,   0,   0,   0,   0,   0,   0,\n",
              "          0, 138, 252, 252, 177,   0,   0,   0,   0,   0,   0,   0,   0,\n",
              "          0,   0],\n",
              "       [  0,   0,   0,   0,   0,   0,   0,   0,   0,   0,   0,   0,   0,\n",
              "          0,   7, 129, 252, 243,  65,   0,   0,   0,   0,   0,   0,   0,\n",
              "          0,   0],\n",
              "       [  0,   0,   0,   0,   0,   0,   0,   0,   0,   0,   0,   0,   0,\n",
              "          0,   0,  33, 252, 252,  74,   0,   0,   0,   0,   0,   0,   0,\n",
              "          0,   0],\n",
              "       [  0,   0,   0,   0,   0,   0,   0,   0,   0,   0,   0,   0,   0,\n",
              "          0, 112, 210, 252, 212,  35,   0,   0,   0,   0,   0,   0,   0,\n",
              "          0,   0],\n",
              "       [  0,   0,   0,   0,   0,   0,   0,   0,   0,   0,   0,  69, 177,\n",
              "        240, 249, 252, 252, 177,   0,   0,   0,   0,   0,   0,   0,   0,\n",
              "          0,   0],\n",
              "       [  0,   0,   0,   0,   0,   0,   0,   0,   0,   0,   0, 193, 252,\n",
              "        253, 252, 240,  59,  41,   0,   0,   0,   0,   0,   0,   0,   0,\n",
              "          0,   0],\n",
              "       [  0,   0,   0,   0,   0,   0,   0,   0,   0,   0,   0, 193, 252,\n",
              "        253, 252, 245,  79,   0,   0,   0,   0,   0,   0,   0,   0,   0,\n",
              "          0,   0],\n",
              "       [  0,   0,   0,   0,   0,   0,   0,   0,   0,   0,   0,   0,   0,\n",
              "        149, 173, 253, 253, 178,   0,   0,   0,   0,   0,   0,   0,   0,\n",
              "          0,   0],\n",
              "       [  0,   0,   0,   0,   0,   0,   0,   0,   0,   0,   0,   0,   0,\n",
              "          0,  11, 179, 252, 195,  18,   0,   0,   0,   0,   0,   0,   0,\n",
              "          0,   0],\n",
              "       [  0,   0,   0,   0,   0,   0,   0,   0,   0,   0,   0,   0,   0,\n",
              "          0,   0,  67, 252, 252,  74,   0,   0,   0,   0,   0,   0,   0,\n",
              "          0,   0],\n",
              "       [  0,   0,   0,   0,   0,   0,   0,   0,   0,   0,   0,   0,   0,\n",
              "          0,   0,  15, 252, 252,  74,   0,   0,   0,   0,   0,   0,   0,\n",
              "          0,   0],\n",
              "       [  0,   0,   0,   0,   0,   0,   0,   0,   9, 153,  12,   0,   0,\n",
              "          0,   0,  60, 252, 252,  74,   0,   0,   0,   0,   0,   0,   0,\n",
              "          0,   0],\n",
              "       [  0,   0,   0,   0,   0,   0,   0,   9, 144, 252, 129,   7,   0,\n",
              "          0,   0, 164, 252, 199,  22,   0,   0,   0,   0,   0,   0,   0,\n",
              "          0,   0],\n",
              "       [  0,   0,   0,   0,   0,   0,   0,  75, 252, 252, 252,  59,   0,\n",
              "        134, 134, 210, 252,  99,   0,   0,   0,   0,   0,   0,   0,   0,\n",
              "          0,   0],\n",
              "       [  0,   0,   0,   0,   0,   0,   0,   4,  32, 210, 252, 241, 238,\n",
              "        253, 252, 252, 252,  29,   0,   0,   0,   0,   0,   0,   0,   0,\n",
              "          0,   0],\n",
              "       [  0,   0,   0,   0,   0,   0,   0,   0,   0,  31, 112, 241, 252,\n",
              "        253, 252, 222, 136,   7,   0,   0,   0,   0,   0,   0,   0,   0,\n",
              "          0,   0],\n",
              "       [  0,   0,   0,   0,   0,   0,   0,   0,   0,   0,   0, 106, 252,\n",
              "        253, 216,  36,   0,   0,   0,   0,   0,   0,   0,   0,   0,   0,\n",
              "          0,   0],\n",
              "       [  0,   0,   0,   0,   0,   0,   0,   0,   0,   0,   0,   0,   0,\n",
              "          0,   0,   0,   0,   0,   0,   0,   0,   0,   0,   0,   0,   0,\n",
              "          0,   0],\n",
              "       [  0,   0,   0,   0,   0,   0,   0,   0,   0,   0,   0,   0,   0,\n",
              "          0,   0,   0,   0,   0,   0,   0,   0,   0,   0,   0,   0,   0,\n",
              "          0,   0],\n",
              "       [  0,   0,   0,   0,   0,   0,   0,   0,   0,   0,   0,   0,   0,\n",
              "          0,   0,   0,   0,   0,   0,   0,   0,   0,   0,   0,   0,   0,\n",
              "          0,   0],\n",
              "       [  0,   0,   0,   0,   0,   0,   0,   0,   0,   0,   0,   0,   0,\n",
              "          0,   0,   0,   0,   0,   0,   0,   0,   0,   0,   0,   0,   0,\n",
              "          0,   0],\n",
              "       [  0,   0,   0,   0,   0,   0,   0,   0,   0,   0,   0,   0,   0,\n",
              "          0,   0,   0,   0,   0,   0,   0,   0,   0,   0,   0,   0,   0,\n",
              "          0,   0]], dtype=uint8)"
            ],
            "text/html": [
              "<style>\n",
              "      .ndarray_repr .ndarray_raw_data {\n",
              "        display: none;\n",
              "      }\n",
              "      .ndarray_repr.show_array .ndarray_raw_data {\n",
              "        display: block;\n",
              "      }\n",
              "      .ndarray_repr.show_array .ndarray_image_preview {\n",
              "        display: none;\n",
              "      }\n",
              "      </style>\n",
              "      <div id=\"id-74ab5007-9588-45fa-85ab-d68bf87e7d3e\" class=\"ndarray_repr\"><pre>ndarray (28, 28) <button style=\"padding: 0 2px;\">show data</button></pre><img src=\"data:image/png;base64,iVBORw0KGgoAAAANSUhEUgAAABwAAAAcCAAAAABXZoBIAAAAu0lEQVR4nGNgoD2Y+r9RFbfk3z/XbdhxSJpO+/nnjxpOvV1//mzEKcne+OezI05ZxT9/vHDJFVz6c0UZq4zrxg8/cdp58M/fPx+sNRECTGgKWEWu47Jy6tq/fzfhdCz35j+HhXDKOiN7Bd3OM8gcuCTnTB4GBgYGXWzGcU7408jOwMCw5M9xMQxJ7z9//lgztLVd+pOMqZNF4dKfj+/+/vnzRxabwfIFH//8/XOvA0dkZ/35e0MFu9QgAQBpLEfqYW5v5QAAAABJRU5ErkJggg==\" class=\"ndarray_image_preview\" /><pre class=\"ndarray_raw_data\">array([[  0,   0,   0,   0,   0,   0,   0,   0,   0,   0,   0,   0,   0,\n",
              "          0,   0,   0,   0,   0,   0,   0,   0,   0,   0,   0,   0,   0,\n",
              "          0,   0],\n",
              "       [  0,   0,   0,   0,   0,   0,   0,   0,   0,   0,   0,   0,   0,\n",
              "          0,   0,   0,   0,   0,   0,   0,   0,   0,   0,   0,   0,   0,\n",
              "          0,   0],\n",
              "       [  0,   0,   0,   0,   0,   0,   0,   0,   0,   0,   0,   0,   0,\n",
              "          0,   0,   0,   0,   0,   0,   0,   0,   0,   0,   0,   0,   0,\n",
              "          0,   0],\n",
              "       [  0,   0,   0,   0,   0,   0,   0,   0,   0,   0,   0,   0, 149,\n",
              "        255, 129,  37,   0,   0,   0,   0,   0,   0,   0,   0,   0,   0,\n",
              "          0,   0],\n",
              "       [  0,   0,   0,   0,   0,   0,   0,   0,   0,   0,   0,   0, 149,\n",
              "        253, 252, 215,  60,   7,   0,   0,   0,   0,   0,   0,   0,   0,\n",
              "          0,   0],\n",
              "       [  0,   0,   0,   0,   0,   0,   0,   0,   0,   0,   0,   0,  53,\n",
              "        150, 249, 252, 252,  38,   0,   0,   0,   0,   0,   0,   0,   0,\n",
              "          0,   0],\n",
              "       [  0,   0,   0,   0,   0,   0,   0,   0,   0,   0,   0,   0,   0,\n",
              "          0, 138, 252, 252, 177,   0,   0,   0,   0,   0,   0,   0,   0,\n",
              "          0,   0],\n",
              "       [  0,   0,   0,   0,   0,   0,   0,   0,   0,   0,   0,   0,   0,\n",
              "          0,   7, 129, 252, 243,  65,   0,   0,   0,   0,   0,   0,   0,\n",
              "          0,   0],\n",
              "       [  0,   0,   0,   0,   0,   0,   0,   0,   0,   0,   0,   0,   0,\n",
              "          0,   0,  33, 252, 252,  74,   0,   0,   0,   0,   0,   0,   0,\n",
              "          0,   0],\n",
              "       [  0,   0,   0,   0,   0,   0,   0,   0,   0,   0,   0,   0,   0,\n",
              "          0, 112, 210, 252, 212,  35,   0,   0,   0,   0,   0,   0,   0,\n",
              "          0,   0],\n",
              "       [  0,   0,   0,   0,   0,   0,   0,   0,   0,   0,   0,  69, 177,\n",
              "        240, 249, 252, 252, 177,   0,   0,   0,   0,   0,   0,   0,   0,\n",
              "          0,   0],\n",
              "       [  0,   0,   0,   0,   0,   0,   0,   0,   0,   0,   0, 193, 252,\n",
              "        253, 252, 240,  59,  41,   0,   0,   0,   0,   0,   0,   0,   0,\n",
              "          0,   0],\n",
              "       [  0,   0,   0,   0,   0,   0,   0,   0,   0,   0,   0, 193, 252,\n",
              "        253, 252, 245,  79,   0,   0,   0,   0,   0,   0,   0,   0,   0,\n",
              "          0,   0],\n",
              "       [  0,   0,   0,   0,   0,   0,   0,   0,   0,   0,   0,   0,   0,\n",
              "        149, 173, 253, 253, 178,   0,   0,   0,   0,   0,   0,   0,   0,\n",
              "          0,   0],\n",
              "       [  0,   0,   0,   0,   0,   0,   0,   0,   0,   0,   0,   0,   0,\n",
              "          0,  11, 179, 252, 195,  18,   0,   0,   0,   0,   0,   0,   0,\n",
              "          0,   0],\n",
              "       [  0,   0,   0,   0,   0,   0,   0,   0,   0,   0,   0,   0,   0,\n",
              "          0,   0,  67, 252, 252,  74,   0,   0,   0,   0,   0,   0,   0,\n",
              "          0,   0],\n",
              "       [  0,   0,   0,   0,   0,   0,   0,   0,   0,   0,   0,   0,   0,\n",
              "          0,   0,  15, 252, 252,  74,   0,   0,   0,   0,   0,   0,   0,\n",
              "          0,   0],\n",
              "       [  0,   0,   0,   0,   0,   0,   0,   0,   9, 153,  12,   0,   0,\n",
              "          0,   0,  60, 252, 252,  74,   0,   0,   0,   0,   0,   0,   0,\n",
              "          0,   0],\n",
              "       [  0,   0,   0,   0,   0,   0,   0,   9, 144, 252, 129,   7,   0,\n",
              "          0,   0, 164, 252, 199,  22,   0,   0,   0,   0,   0,   0,   0,\n",
              "          0,   0],\n",
              "       [  0,   0,   0,   0,   0,   0,   0,  75, 252, 252, 252,  59,   0,\n",
              "        134, 134, 210, 252,  99,   0,   0,   0,   0,   0,   0,   0,   0,\n",
              "          0,   0],\n",
              "       [  0,   0,   0,   0,   0,   0,   0,   4,  32, 210, 252, 241, 238,\n",
              "        253, 252, 252, 252,  29,   0,   0,   0,   0,   0,   0,   0,   0,\n",
              "          0,   0],\n",
              "       [  0,   0,   0,   0,   0,   0,   0,   0,   0,  31, 112, 241, 252,\n",
              "        253, 252, 222, 136,   7,   0,   0,   0,   0,   0,   0,   0,   0,\n",
              "          0,   0],\n",
              "       [  0,   0,   0,   0,   0,   0,   0,   0,   0,   0,   0, 106, 252,\n",
              "        253, 216,  36,   0,   0,   0,   0,   0,   0,   0,   0,   0,   0,\n",
              "          0,   0],\n",
              "       [  0,   0,   0,   0,   0,   0,   0,   0,   0,   0,   0,   0,   0,\n",
              "          0,   0,   0,   0,   0,   0,   0,   0,   0,   0,   0,   0,   0,\n",
              "          0,   0],\n",
              "       [  0,   0,   0,   0,   0,   0,   0,   0,   0,   0,   0,   0,   0,\n",
              "          0,   0,   0,   0,   0,   0,   0,   0,   0,   0,   0,   0,   0,\n",
              "          0,   0],\n",
              "       [  0,   0,   0,   0,   0,   0,   0,   0,   0,   0,   0,   0,   0,\n",
              "          0,   0,   0,   0,   0,   0,   0,   0,   0,   0,   0,   0,   0,\n",
              "          0,   0],\n",
              "       [  0,   0,   0,   0,   0,   0,   0,   0,   0,   0,   0,   0,   0,\n",
              "          0,   0,   0,   0,   0,   0,   0,   0,   0,   0,   0,   0,   0,\n",
              "          0,   0],\n",
              "       [  0,   0,   0,   0,   0,   0,   0,   0,   0,   0,   0,   0,   0,\n",
              "          0,   0,   0,   0,   0,   0,   0,   0,   0,   0,   0,   0,   0,\n",
              "          0,   0]], dtype=uint8)</pre></div><script>\n",
              "      (() => {\n",
              "      const titles = ['show data', 'hide data'];\n",
              "      let index = 0\n",
              "      document.querySelector('#id-74ab5007-9588-45fa-85ab-d68bf87e7d3e button').onclick = (e) => {\n",
              "        document.querySelector('#id-74ab5007-9588-45fa-85ab-d68bf87e7d3e').classList.toggle('show_array');\n",
              "        index = (++index) % 2;\n",
              "        document.querySelector('#id-74ab5007-9588-45fa-85ab-d68bf87e7d3e button').textContent = titles[index];\n",
              "        e.preventDefault();\n",
              "        e.stopPropagation();\n",
              "      }\n",
              "      })();\n",
              "    </script>"
            ]
          },
          "metadata": {},
          "execution_count": 11
        }
      ]
    },
    {
      "cell_type": "code",
      "source": [
        "y_train[1234] #對照答案"
      ],
      "metadata": {
        "colab": {
          "base_uri": "https://localhost:8080/"
        },
        "id": "VOrTeFhNpkpz",
        "outputId": "5142ce76-394e-4b23-d914-9fb5c32df0e6"
      },
      "execution_count": null,
      "outputs": [
        {
          "output_type": "execute_result",
          "data": {
            "text/plain": [
              "3"
            ]
          },
          "metadata": {},
          "execution_count": 12
        }
      ]
    },
    {
      "cell_type": "markdown",
      "metadata": {
        "id": "BnTUn8540Avi"
      },
      "source": [
        "### 2.2 查看數據庫的內容\n",
        "\n",
        "每筆輸入 (x) 就是一個手寫的 0-9 中一個數字的圖檔, 大小為 28x28。\\\n",
        "而輸出 (y) 就是「正確答案」。"
      ]
    },
    {
      "cell_type": "code",
      "metadata": {
        "id": "Us54Okz50Avj"
      },
      "source": [
        "def show_data(n = 100):\n",
        "    X = x_train[n]\n",
        "    print(X)"
      ],
      "execution_count": null,
      "outputs": []
    },
    {
      "cell_type": "code",
      "metadata": {
        "colab": {
          "base_uri": "https://localhost:8080/",
          "height": 81,
          "referenced_widgets": [
            "c6f345334ecd476497e130e03ff64f63",
            "b7767091b92b421e9fde3a8ba91c5101",
            "1458e80f0db241c6a0b31a50911d78cb",
            "7f14d9114a984164a2917ba351326dfa",
            "38b5ae10849848abb227874f9e9a30ea",
            "6d50369104c343a28268742f8bbf1d40",
            "638f88eef62a4dc0b17f46230c011ac4",
            "6e29243e98784810b8b32f8943056525",
            "bfd3a77302ed421ca945cebde3015669",
            "5a02b9ae8b834416bdb2ae4618a83116"
          ]
        },
        "id": "M11bhEOl0Avj",
        "outputId": "806aeb49-e360-470f-9cfb-54818193ad54"
      },
      "source": [
        "interact_manual(show_data, n=(0,59999));"
      ],
      "execution_count": null,
      "outputs": [
        {
          "output_type": "display_data",
          "data": {
            "text/plain": [
              "interactive(children=(IntSlider(value=100, description='n', max=59999), Button(description='Run Interact', sty…"
            ],
            "application/vnd.jupyter.widget-view+json": {
              "version_major": 2,
              "version_minor": 0,
              "model_id": "c6f345334ecd476497e130e03ff64f63"
            }
          },
          "metadata": {}
        }
      ]
    },
    {
      "cell_type": "markdown",
      "metadata": {
        "id": "fOPj5Mh50Avk"
      },
      "source": [
        "### 2.3 輸入格式整理-reshape\n",
        "\n",
        "我們現在要用標準神經網路學學手寫辨識，原來的每筆數據是個 28x28 的矩陣 (array), 但標準神經網路只吃「平平的」, 也就是每次要 28x28=784 長的向量，因此我們要用 `reshape` 調校一下。"
      ]
    },
    {
      "cell_type": "code",
      "metadata": {
        "id": "pT7oXt8B0Avk"
      },
      "source": [
        "x_train = x_train.reshape(60000, 784)/255 #壓成0-255 將矩陣壓成向量\n",
        "x_test = x_test.reshape(10000, 784)/255"
      ],
      "execution_count": null,
      "outputs": []
    },
    {
      "cell_type": "code",
      "source": [
        "x_train.shape"
      ],
      "metadata": {
        "colab": {
          "base_uri": "https://localhost:8080/"
        },
        "id": "JK1Jczg9qgVL",
        "outputId": "6d702165-17b8-4db8-e1ad-be17d8de52be"
      },
      "execution_count": null,
      "outputs": [
        {
          "output_type": "execute_result",
          "data": {
            "text/plain": [
              "(60000, 784)"
            ]
          },
          "metadata": {},
          "execution_count": 5
        }
      ]
    },
    {
      "cell_type": "markdown",
      "metadata": {
        "id": "mQmajlcm0Avl"
      },
      "source": [
        "### 2.4 輸出格式整理-one hot encoding"
      ]
    },
    {
      "cell_type": "code",
      "source": [
        "y_train[43210]"
      ],
      "metadata": {
        "colab": {
          "base_uri": "https://localhost:8080/"
        },
        "id": "l_B2UCOQqr5x",
        "outputId": "35d673fd-557a-46bc-aa11-873701df4ffe"
      },
      "execution_count": null,
      "outputs": [
        {
          "output_type": "execute_result",
          "data": {
            "text/plain": [
              "9"
            ]
          },
          "metadata": {},
          "execution_count": 6
        }
      ]
    },
    {
      "cell_type": "code",
      "metadata": {
        "id": "_i22oLVf0Avl"
      },
      "source": [
        "y_train = to_categorical(y_train, 10)\n",
        "y_test = to_categorical(y_test, 10)"
      ],
      "execution_count": null,
      "outputs": []
    },
    {
      "cell_type": "code",
      "source": [
        "y_train[43210]"
      ],
      "metadata": {
        "colab": {
          "base_uri": "https://localhost:8080/"
        },
        "id": "tFGUAjIwqvOv",
        "outputId": "374d7ef1-419c-4b1b-d9dd-b278e7df478c"
      },
      "execution_count": null,
      "outputs": [
        {
          "output_type": "execute_result",
          "data": {
            "text/plain": [
              "array([0., 0., 0., 0., 0., 0., 0., 0., 0., 1.])"
            ]
          },
          "metadata": {},
          "execution_count": 8
        }
      ]
    },
    {
      "cell_type": "markdown",
      "metadata": {
        "id": "4MDhWZk10Avm"
      },
      "source": [
        "## 3. 建立神經網路\n",
        "\n",
        "我們的函數長相是這樣，從784維向量分成10類\n",
        "\n",
        "$$\\hat{f} \\colon \\mathbb{R}^{784} \\to \\mathbb{R}^{10}$$\n",
        "\n",
        "接下來只需要再決定要幾個隱藏層、每層要幾個神經元, 用哪個激發函數就可以了。"
      ]
    },
    {
      "cell_type": "markdown",
      "metadata": {
        "id": "UXydepP550U5"
      },
      "source": [
        "### 3.1 決定神經網路架構、讀入相關套件\n",
        "\n",
        "假如我們要用 ReLU 當激發函數, 要設計神經網路, 再來就是要指定多少個隱藏層、每層多少個神經元就完成了!\n"
      ]
    },
    {
      "cell_type": "markdown",
      "metadata": {
        "id": "m41UZZdF0Avm"
      },
      "source": [
        "### 3.2 建構我們的神經網路\n",
        "\n",
        "和以前做迴歸或機器學習一樣, 我們就打開個「函數學習機」。標準一層一層傳遞的神經網路叫 `Sequential`, 於是我們打開一個空的神經網路。"
      ]
    },
    {
      "cell_type": "code",
      "metadata": {
        "id": "F_fx6jw80Avm"
      },
      "source": [
        "model = Sequential()"
      ],
      "execution_count": null,
      "outputs": []
    },
    {
      "cell_type": "markdown",
      "metadata": {
        "id": "tm9L8SfT0Avn"
      },
      "source": [
        "每次用 `add` 加一層, 從第一個隱藏層開始。而第一個隱藏層因為 TensorFlow 當然猜不到輸入有 784 個 features, 所以我們要告訴它。"
      ]
    },
    {
      "cell_type": "code",
      "metadata": {
        "id": "wrBnZ3Xw0Avn",
        "colab": {
          "base_uri": "https://localhost:8080/"
        },
        "outputId": "90f3d52f-7bac-4600-959d-49946e57cbf7"
      },
      "source": [
        "model.add(Dense(N1, input_dim=784, activation='relu'))"
      ],
      "execution_count": null,
      "outputs": [
        {
          "output_type": "stream",
          "name": "stderr",
          "text": [
            "/usr/local/lib/python3.11/dist-packages/keras/src/layers/core/dense.py:87: UserWarning: Do not pass an `input_shape`/`input_dim` argument to a layer. When using Sequential models, prefer using an `Input(shape)` object as the first layer in the model instead.\n",
            "  super().__init__(activity_regularizer=activity_regularizer, **kwargs)\n"
          ]
        }
      ]
    },
    {
      "cell_type": "markdown",
      "metadata": {
        "id": "sbcJBOtk0Avn"
      },
      "source": [
        "第二層開始就不用再說明輸入神經元個數 (等於前一層神經元數)。"
      ]
    },
    {
      "cell_type": "code",
      "metadata": {
        "id": "4UtBjkQh0Avn"
      },
      "source": [
        "model.add(Dense(N2, activation='sigmoid'))"
      ],
      "execution_count": null,
      "outputs": []
    },
    {
      "cell_type": "code",
      "metadata": {
        "id": "v3pVDFVR0Avn"
      },
      "source": [
        "# model.add(Dense(N3, activation='relu'))\n",
        "# model.add(Dense(N4, activation='relu'))"
      ],
      "execution_count": null,
      "outputs": []
    },
    {
      "cell_type": "markdown",
      "metadata": {
        "id": "d1cfWRkD0Avn"
      },
      "source": [
        "輸出有 10 個數字, 所以輸出層的神經元是 10 個! 而如果我們的網路輸出是\n",
        "\n",
        "$$(y_1, y_2, \\ldots, y_{10})$$\n",
        "\n",
        "我們還希望輸出的機率加起來是1，數學式表達如下\n",
        "\n",
        "$$\\sum_{i=1}^{10} y_i = 1$$\n",
        "\n",
        "因此要用 `softmax` 當激發函數!!"
      ]
    },
    {
      "cell_type": "code",
      "metadata": {
        "id": "H6P7C6Nk0Avo"
      },
      "source": [
        "model.add(Dense(10, activation='softmax'))"
      ],
      "execution_count": null,
      "outputs": []
    },
    {
      "cell_type": "markdown",
      "metadata": {
        "id": "5znBU0DV0Avo"
      },
      "source": [
        "### 3.3 組裝\n",
        "\n",
        "和之前比較不一樣的是我們還要做 `compile` 才正式把我們的神經網路建好。你可以發現我們還需要做幾件事:\n",
        "\n",
        "* 決定使用的 loss function, 一般是 `mse`\n",
        "* 決定 optimizer, 我們用標準的 SGD 梯度下降法\n",
        "* 設 learning rate\n",
        "\n",
        "為了一邊訓練一邊看到結果, 我們加設\n",
        "\n",
        "    metrics=['accuracy']\n",
        "    \n",
        "本行和神經網路功能沒有什麼關係。"
      ]
    },
    {
      "cell_type": "code",
      "metadata": {
        "id": "lGLgh8Gz0Avo"
      },
      "source": [
        "model.compile(loss='mse', optimizer=SGD(learning_rate=0.087), metrics=['accuracy'])"
      ],
      "execution_count": null,
      "outputs": []
    },
    {
      "cell_type": "markdown",
      "metadata": {
        "id": "xf9ykvbJ0Avo"
      },
      "source": [
        "## 4. 檢視神經網路"
      ]
    },
    {
      "cell_type": "markdown",
      "metadata": {
        "id": "UPdrQNHV0Avo"
      },
      "source": [
        "檢視神經網路架構, 可以確認一下是不是和想像的一樣。"
      ]
    },
    {
      "cell_type": "markdown",
      "metadata": {
        "id": "kV3613iy0Avp"
      },
      "source": [
        "### 4.1 看 model 的 summary"
      ]
    },
    {
      "cell_type": "code",
      "metadata": {
        "colab": {
          "base_uri": "https://localhost:8080/",
          "height": 225
        },
        "id": "0yJJowZE0Avp",
        "outputId": "aa82abc6-ed02-47ed-b7c3-d0b5e85de8e1"
      },
      "source": [
        "model.summary()"
      ],
      "execution_count": null,
      "outputs": [
        {
          "output_type": "display_data",
          "data": {
            "text/plain": [
              "\u001b[1mModel: \"sequential\"\u001b[0m\n"
            ],
            "text/html": [
              "<pre style=\"white-space:pre;overflow-x:auto;line-height:normal;font-family:Menlo,'DejaVu Sans Mono',consolas,'Courier New',monospace\"><span style=\"font-weight: bold\">Model: \"sequential\"</span>\n",
              "</pre>\n"
            ]
          },
          "metadata": {}
        },
        {
          "output_type": "display_data",
          "data": {
            "text/plain": [
              "┏━━━━━━━━━━━━━━━━━━━━━━━━━━━━━━━━━━━━━━┳━━━━━━━━━━━━━━━━━━━━━━━━━━━━━┳━━━━━━━━━━━━━━━━━┓\n",
              "┃\u001b[1m \u001b[0m\u001b[1mLayer (type)                        \u001b[0m\u001b[1m \u001b[0m┃\u001b[1m \u001b[0m\u001b[1mOutput Shape               \u001b[0m\u001b[1m \u001b[0m┃\u001b[1m \u001b[0m\u001b[1m        Param #\u001b[0m\u001b[1m \u001b[0m┃\n",
              "┡━━━━━━━━━━━━━━━━━━━━━━━━━━━━━━━━━━━━━━╇━━━━━━━━━━━━━━━━━━━━━━━━━━━━━╇━━━━━━━━━━━━━━━━━┩\n",
              "│ dense (\u001b[38;5;33mDense\u001b[0m)                        │ (\u001b[38;5;45mNone\u001b[0m, \u001b[38;5;34m160\u001b[0m)                 │         \u001b[38;5;34m125,600\u001b[0m │\n",
              "├──────────────────────────────────────┼─────────────────────────────┼─────────────────┤\n",
              "│ dense_1 (\u001b[38;5;33mDense\u001b[0m)                      │ (\u001b[38;5;45mNone\u001b[0m, \u001b[38;5;34m10\u001b[0m)                  │           \u001b[38;5;34m1,610\u001b[0m │\n",
              "├──────────────────────────────────────┼─────────────────────────────┼─────────────────┤\n",
              "│ dense_2 (\u001b[38;5;33mDense\u001b[0m)                      │ (\u001b[38;5;45mNone\u001b[0m, \u001b[38;5;34m10\u001b[0m)                  │             \u001b[38;5;34m110\u001b[0m │\n",
              "└──────────────────────────────────────┴─────────────────────────────┴─────────────────┘\n"
            ],
            "text/html": [
              "<pre style=\"white-space:pre;overflow-x:auto;line-height:normal;font-family:Menlo,'DejaVu Sans Mono',consolas,'Courier New',monospace\">┏━━━━━━━━━━━━━━━━━━━━━━━━━━━━━━━━━━━━━━┳━━━━━━━━━━━━━━━━━━━━━━━━━━━━━┳━━━━━━━━━━━━━━━━━┓\n",
              "┃<span style=\"font-weight: bold\"> Layer (type)                         </span>┃<span style=\"font-weight: bold\"> Output Shape                </span>┃<span style=\"font-weight: bold\">         Param # </span>┃\n",
              "┡━━━━━━━━━━━━━━━━━━━━━━━━━━━━━━━━━━━━━━╇━━━━━━━━━━━━━━━━━━━━━━━━━━━━━╇━━━━━━━━━━━━━━━━━┩\n",
              "│ dense (<span style=\"color: #0087ff; text-decoration-color: #0087ff\">Dense</span>)                        │ (<span style=\"color: #00d7ff; text-decoration-color: #00d7ff\">None</span>, <span style=\"color: #00af00; text-decoration-color: #00af00\">160</span>)                 │         <span style=\"color: #00af00; text-decoration-color: #00af00\">125,600</span> │\n",
              "├──────────────────────────────────────┼─────────────────────────────┼─────────────────┤\n",
              "│ dense_1 (<span style=\"color: #0087ff; text-decoration-color: #0087ff\">Dense</span>)                      │ (<span style=\"color: #00d7ff; text-decoration-color: #00d7ff\">None</span>, <span style=\"color: #00af00; text-decoration-color: #00af00\">10</span>)                  │           <span style=\"color: #00af00; text-decoration-color: #00af00\">1,610</span> │\n",
              "├──────────────────────────────────────┼─────────────────────────────┼─────────────────┤\n",
              "│ dense_2 (<span style=\"color: #0087ff; text-decoration-color: #0087ff\">Dense</span>)                      │ (<span style=\"color: #00d7ff; text-decoration-color: #00d7ff\">None</span>, <span style=\"color: #00af00; text-decoration-color: #00af00\">10</span>)                  │             <span style=\"color: #00af00; text-decoration-color: #00af00\">110</span> │\n",
              "└──────────────────────────────────────┴─────────────────────────────┴─────────────────┘\n",
              "</pre>\n"
            ]
          },
          "metadata": {}
        },
        {
          "output_type": "display_data",
          "data": {
            "text/plain": [
              "\u001b[1m Total params: \u001b[0m\u001b[38;5;34m127,320\u001b[0m (497.34 KB)\n"
            ],
            "text/html": [
              "<pre style=\"white-space:pre;overflow-x:auto;line-height:normal;font-family:Menlo,'DejaVu Sans Mono',consolas,'Courier New',monospace\"><span style=\"font-weight: bold\"> Total params: </span><span style=\"color: #00af00; text-decoration-color: #00af00\">127,320</span> (497.34 KB)\n",
              "</pre>\n"
            ]
          },
          "metadata": {}
        },
        {
          "output_type": "display_data",
          "data": {
            "text/plain": [
              "\u001b[1m Trainable params: \u001b[0m\u001b[38;5;34m127,320\u001b[0m (497.34 KB)\n"
            ],
            "text/html": [
              "<pre style=\"white-space:pre;overflow-x:auto;line-height:normal;font-family:Menlo,'DejaVu Sans Mono',consolas,'Courier New',monospace\"><span style=\"font-weight: bold\"> Trainable params: </span><span style=\"color: #00af00; text-decoration-color: #00af00\">127,320</span> (497.34 KB)\n",
              "</pre>\n"
            ]
          },
          "metadata": {}
        },
        {
          "output_type": "display_data",
          "data": {
            "text/plain": [
              "\u001b[1m Non-trainable params: \u001b[0m\u001b[38;5;34m0\u001b[0m (0.00 B)\n"
            ],
            "text/html": [
              "<pre style=\"white-space:pre;overflow-x:auto;line-height:normal;font-family:Menlo,'DejaVu Sans Mono',consolas,'Courier New',monospace\"><span style=\"font-weight: bold\"> Non-trainable params: </span><span style=\"color: #00af00; text-decoration-color: #00af00\">0</span> (0.00 B)\n",
              "</pre>\n"
            ]
          },
          "metadata": {}
        }
      ]
    },
    {
      "cell_type": "markdown",
      "metadata": {
        "id": "R5VHPpfd0Avp"
      },
      "source": [
        "## 5. 訓練神經網路\n",
        "\n",
        "現在完成了神經網路的建置。現在要訓練的時候, 你會發現不是把訓練資料送進去就好。這裡我們還有兩件事要決定:\n",
        "\n",
        "* 一次要訓練幾筆資料 (`batch_size`)\n",
        "* 這 6 萬筆資料一共要訓練幾次 (`epochs`)\n",
        "\n",
        "於是最精彩的就來了。然後就是開始等待他訓練..."
      ]
    },
    {
      "cell_type": "code",
      "source": [
        "model.fit(x_train, y_train, batch_size=100, epochs=10)"
      ],
      "metadata": {
        "colab": {
          "base_uri": "https://localhost:8080/"
        },
        "id": "1VvYa8UgxhU1",
        "outputId": "f75b1906-fc77-493d-d7c7-ba32da1cac3f"
      },
      "execution_count": null,
      "outputs": [
        {
          "output_type": "stream",
          "name": "stdout",
          "text": [
            "Epoch 1/10\n",
            "\u001b[1m600/600\u001b[0m \u001b[32m━━━━━━━━━━━━━━━━━━━━\u001b[0m\u001b[37m\u001b[0m \u001b[1m3s\u001b[0m 3ms/step - accuracy: 0.1102 - loss: 0.0903\n",
            "Epoch 2/10\n",
            "\u001b[1m600/600\u001b[0m \u001b[32m━━━━━━━━━━━━━━━━━━━━\u001b[0m\u001b[37m\u001b[0m \u001b[1m1s\u001b[0m 2ms/step - accuracy: 0.2259 - loss: 0.0879\n",
            "Epoch 3/10\n",
            "\u001b[1m600/600\u001b[0m \u001b[32m━━━━━━━━━━━━━━━━━━━━\u001b[0m\u001b[37m\u001b[0m \u001b[1m3s\u001b[0m 3ms/step - accuracy: 0.2484 - loss: 0.0853\n",
            "Epoch 4/10\n",
            "\u001b[1m600/600\u001b[0m \u001b[32m━━━━━━━━━━━━━━━━━━━━\u001b[0m\u001b[37m\u001b[0m \u001b[1m1s\u001b[0m 2ms/step - accuracy: 0.2804 - loss: 0.0826\n",
            "Epoch 5/10\n",
            "\u001b[1m600/600\u001b[0m \u001b[32m━━━━━━━━━━━━━━━━━━━━\u001b[0m\u001b[37m\u001b[0m \u001b[1m3s\u001b[0m 2ms/step - accuracy: 0.3201 - loss: 0.0798\n",
            "Epoch 6/10\n",
            "\u001b[1m600/600\u001b[0m \u001b[32m━━━━━━━━━━━━━━━━━━━━\u001b[0m\u001b[37m\u001b[0m \u001b[1m1s\u001b[0m 2ms/step - accuracy: 0.3559 - loss: 0.0775\n",
            "Epoch 7/10\n",
            "\u001b[1m600/600\u001b[0m \u001b[32m━━━━━━━━━━━━━━━━━━━━\u001b[0m\u001b[37m\u001b[0m \u001b[1m1s\u001b[0m 2ms/step - accuracy: 0.4057 - loss: 0.0747\n",
            "Epoch 8/10\n",
            "\u001b[1m600/600\u001b[0m \u001b[32m━━━━━━━━━━━━━━━━━━━━\u001b[0m\u001b[37m\u001b[0m \u001b[1m3s\u001b[0m 2ms/step - accuracy: 0.4453 - loss: 0.0721\n",
            "Epoch 9/10\n",
            "\u001b[1m600/600\u001b[0m \u001b[32m━━━━━━━━━━━━━━━━━━━━\u001b[0m\u001b[37m\u001b[0m \u001b[1m2s\u001b[0m 3ms/step - accuracy: 0.4783 - loss: 0.0692\n",
            "Epoch 10/10\n",
            "\u001b[1m600/600\u001b[0m \u001b[32m━━━━━━━━━━━━━━━━━━━━\u001b[0m\u001b[37m\u001b[0m \u001b[1m1s\u001b[0m 2ms/step - accuracy: 0.5135 - loss: 0.0662\n"
          ]
        },
        {
          "output_type": "execute_result",
          "data": {
            "text/plain": [
              "<keras.src.callbacks.history.History at 0x7d319ddc1150>"
            ]
          },
          "metadata": {},
          "execution_count": 15
        }
      ]
    },
    {
      "cell_type": "markdown",
      "source": [
        "epoch改訓練100次"
      ],
      "metadata": {
        "id": "MWz2w5uixoS8"
      }
    },
    {
      "cell_type": "code",
      "metadata": {
        "colab": {
          "base_uri": "https://localhost:8080/"
        },
        "id": "1jwuUx4a0Avq",
        "outputId": "140a0911-827c-4133-b3a8-d2eb8e8eea24"
      },
      "source": [
        "model.fit(x_train, y_train, batch_size=100, epochs=100)"
      ],
      "execution_count": null,
      "outputs": [
        {
          "output_type": "stream",
          "name": "stdout",
          "text": [
            "Epoch 1/100\n",
            "\u001b[1m600/600\u001b[0m \u001b[32m━━━━━━━━━━━━━━━━━━━━\u001b[0m\u001b[37m\u001b[0m \u001b[1m2s\u001b[0m 2ms/step - accuracy: 0.5443 - loss: 0.0636\n",
            "Epoch 2/100\n",
            "\u001b[1m600/600\u001b[0m \u001b[32m━━━━━━━━━━━━━━━━━━━━\u001b[0m\u001b[37m\u001b[0m \u001b[1m1s\u001b[0m 2ms/step - accuracy: 0.5845 - loss: 0.0606\n",
            "Epoch 3/100\n",
            "\u001b[1m600/600\u001b[0m \u001b[32m━━━━━━━━━━━━━━━━━━━━\u001b[0m\u001b[37m\u001b[0m \u001b[1m1s\u001b[0m 2ms/step - accuracy: 0.6267 - loss: 0.0580\n",
            "Epoch 4/100\n",
            "\u001b[1m600/600\u001b[0m \u001b[32m━━━━━━━━━━━━━━━━━━━━\u001b[0m\u001b[37m\u001b[0m \u001b[1m3s\u001b[0m 2ms/step - accuracy: 0.6684 - loss: 0.0553\n",
            "Epoch 5/100\n",
            "\u001b[1m600/600\u001b[0m \u001b[32m━━━━━━━━━━━━━━━━━━━━\u001b[0m\u001b[37m\u001b[0m \u001b[1m3s\u001b[0m 2ms/step - accuracy: 0.7059 - loss: 0.0522\n",
            "Epoch 6/100\n",
            "\u001b[1m600/600\u001b[0m \u001b[32m━━━━━━━━━━━━━━━━━━━━\u001b[0m\u001b[37m\u001b[0m \u001b[1m1s\u001b[0m 2ms/step - accuracy: 0.7221 - loss: 0.0498\n",
            "Epoch 7/100\n",
            "\u001b[1m600/600\u001b[0m \u001b[32m━━━━━━━━━━━━━━━━━━━━\u001b[0m\u001b[37m\u001b[0m \u001b[1m2s\u001b[0m 2ms/step - accuracy: 0.7402 - loss: 0.0472\n",
            "Epoch 8/100\n",
            "\u001b[1m600/600\u001b[0m \u001b[32m━━━━━━━━━━━━━━━━━━━━\u001b[0m\u001b[37m\u001b[0m \u001b[1m1s\u001b[0m 2ms/step - accuracy: 0.7529 - loss: 0.0448\n",
            "Epoch 9/100\n",
            "\u001b[1m600/600\u001b[0m \u001b[32m━━━━━━━━━━━━━━━━━━━━\u001b[0m\u001b[37m\u001b[0m \u001b[1m1s\u001b[0m 2ms/step - accuracy: 0.7596 - loss: 0.0428\n",
            "Epoch 10/100\n",
            "\u001b[1m600/600\u001b[0m \u001b[32m━━━━━━━━━━━━━━━━━━━━\u001b[0m\u001b[37m\u001b[0m \u001b[1m1s\u001b[0m 2ms/step - accuracy: 0.7704 - loss: 0.0407\n",
            "Epoch 11/100\n",
            "\u001b[1m600/600\u001b[0m \u001b[32m━━━━━━━━━━━━━━━━━━━━\u001b[0m\u001b[37m\u001b[0m \u001b[1m1s\u001b[0m 2ms/step - accuracy: 0.7796 - loss: 0.0390\n",
            "Epoch 12/100\n",
            "\u001b[1m600/600\u001b[0m \u001b[32m━━━━━━━━━━━━━━━━━━━━\u001b[0m\u001b[37m\u001b[0m \u001b[1m1s\u001b[0m 2ms/step - accuracy: 0.7934 - loss: 0.0373\n",
            "Epoch 13/100\n",
            "\u001b[1m600/600\u001b[0m \u001b[32m━━━━━━━━━━━━━━━━━━━━\u001b[0m\u001b[37m\u001b[0m \u001b[1m1s\u001b[0m 2ms/step - accuracy: 0.8032 - loss: 0.0358\n",
            "Epoch 14/100\n",
            "\u001b[1m600/600\u001b[0m \u001b[32m━━━━━━━━━━━━━━━━━━━━\u001b[0m\u001b[37m\u001b[0m \u001b[1m2s\u001b[0m 3ms/step - accuracy: 0.8182 - loss: 0.0343\n",
            "Epoch 15/100\n",
            "\u001b[1m600/600\u001b[0m \u001b[32m━━━━━━━━━━━━━━━━━━━━\u001b[0m\u001b[37m\u001b[0m \u001b[1m2s\u001b[0m 3ms/step - accuracy: 0.8318 - loss: 0.0329\n",
            "Epoch 16/100\n",
            "\u001b[1m600/600\u001b[0m \u001b[32m━━━━━━━━━━━━━━━━━━━━\u001b[0m\u001b[37m\u001b[0m \u001b[1m1s\u001b[0m 2ms/step - accuracy: 0.8425 - loss: 0.0314\n",
            "Epoch 17/100\n",
            "\u001b[1m600/600\u001b[0m \u001b[32m━━━━━━━━━━━━━━━━━━━━\u001b[0m\u001b[37m\u001b[0m \u001b[1m1s\u001b[0m 2ms/step - accuracy: 0.8489 - loss: 0.0302\n",
            "Epoch 18/100\n",
            "\u001b[1m600/600\u001b[0m \u001b[32m━━━━━━━━━━━━━━━━━━━━\u001b[0m\u001b[37m\u001b[0m \u001b[1m1s\u001b[0m 2ms/step - accuracy: 0.8538 - loss: 0.0292\n",
            "Epoch 19/100\n",
            "\u001b[1m600/600\u001b[0m \u001b[32m━━━━━━━━━━━━━━━━━━━━\u001b[0m\u001b[37m\u001b[0m \u001b[1m3s\u001b[0m 2ms/step - accuracy: 0.8622 - loss: 0.0280\n",
            "Epoch 20/100\n",
            "\u001b[1m600/600\u001b[0m \u001b[32m━━━━━━━━━━━━━━━━━━━━\u001b[0m\u001b[37m\u001b[0m \u001b[1m1s\u001b[0m 2ms/step - accuracy: 0.8681 - loss: 0.0269\n",
            "Epoch 21/100\n",
            "\u001b[1m600/600\u001b[0m \u001b[32m━━━━━━━━━━━━━━━━━━━━\u001b[0m\u001b[37m\u001b[0m \u001b[1m1s\u001b[0m 2ms/step - accuracy: 0.8724 - loss: 0.0260\n",
            "Epoch 22/100\n",
            "\u001b[1m600/600\u001b[0m \u001b[32m━━━━━━━━━━━━━━━━━━━━\u001b[0m\u001b[37m\u001b[0m \u001b[1m2s\u001b[0m 3ms/step - accuracy: 0.8754 - loss: 0.0250\n",
            "Epoch 23/100\n",
            "\u001b[1m600/600\u001b[0m \u001b[32m━━━━━━━━━━━━━━━━━━━━\u001b[0m\u001b[37m\u001b[0m \u001b[1m1s\u001b[0m 2ms/step - accuracy: 0.8785 - loss: 0.0241\n",
            "Epoch 24/100\n",
            "\u001b[1m600/600\u001b[0m \u001b[32m━━━━━━━━━━━━━━━━━━━━\u001b[0m\u001b[37m\u001b[0m \u001b[1m3s\u001b[0m 2ms/step - accuracy: 0.8818 - loss: 0.0233\n",
            "Epoch 25/100\n",
            "\u001b[1m600/600\u001b[0m \u001b[32m━━━━━━━━━━━━━━━━━━━━\u001b[0m\u001b[37m\u001b[0m \u001b[1m1s\u001b[0m 2ms/step - accuracy: 0.8850 - loss: 0.0226\n",
            "Epoch 26/100\n",
            "\u001b[1m600/600\u001b[0m \u001b[32m━━━━━━━━━━━━━━━━━━━━\u001b[0m\u001b[37m\u001b[0m \u001b[1m1s\u001b[0m 2ms/step - accuracy: 0.8846 - loss: 0.0221\n",
            "Epoch 27/100\n",
            "\u001b[1m600/600\u001b[0m \u001b[32m━━━━━━━━━━━━━━━━━━━━\u001b[0m\u001b[37m\u001b[0m \u001b[1m3s\u001b[0m 2ms/step - accuracy: 0.8918 - loss: 0.0213\n",
            "Epoch 28/100\n",
            "\u001b[1m600/600\u001b[0m \u001b[32m━━━━━━━━━━━━━━━━━━━━\u001b[0m\u001b[37m\u001b[0m \u001b[1m3s\u001b[0m 3ms/step - accuracy: 0.8903 - loss: 0.0209\n",
            "Epoch 29/100\n",
            "\u001b[1m600/600\u001b[0m \u001b[32m━━━━━━━━━━━━━━━━━━━━\u001b[0m\u001b[37m\u001b[0m \u001b[1m2s\u001b[0m 2ms/step - accuracy: 0.8925 - loss: 0.0203\n",
            "Epoch 30/100\n",
            "\u001b[1m600/600\u001b[0m \u001b[32m━━━━━━━━━━━━━━━━━━━━\u001b[0m\u001b[37m\u001b[0m \u001b[1m1s\u001b[0m 2ms/step - accuracy: 0.8951 - loss: 0.0198\n",
            "Epoch 31/100\n",
            "\u001b[1m600/600\u001b[0m \u001b[32m━━━━━━━━━━━━━━━━━━━━\u001b[0m\u001b[37m\u001b[0m \u001b[1m1s\u001b[0m 2ms/step - accuracy: 0.8962 - loss: 0.0192\n",
            "Epoch 32/100\n",
            "\u001b[1m600/600\u001b[0m \u001b[32m━━━━━━━━━━━━━━━━━━━━\u001b[0m\u001b[37m\u001b[0m \u001b[1m1s\u001b[0m 2ms/step - accuracy: 0.8989 - loss: 0.0188\n",
            "Epoch 33/100\n",
            "\u001b[1m600/600\u001b[0m \u001b[32m━━━━━━━━━━━━━━━━━━━━\u001b[0m\u001b[37m\u001b[0m \u001b[1m3s\u001b[0m 2ms/step - accuracy: 0.8996 - loss: 0.0185\n",
            "Epoch 34/100\n",
            "\u001b[1m600/600\u001b[0m \u001b[32m━━━━━━━━━━━━━━━━━━━━\u001b[0m\u001b[37m\u001b[0m \u001b[1m2s\u001b[0m 3ms/step - accuracy: 0.9018 - loss: 0.0180\n",
            "Epoch 35/100\n",
            "\u001b[1m600/600\u001b[0m \u001b[32m━━━━━━━━━━━━━━━━━━━━\u001b[0m\u001b[37m\u001b[0m \u001b[1m2s\u001b[0m 2ms/step - accuracy: 0.9020 - loss: 0.0176\n",
            "Epoch 36/100\n",
            "\u001b[1m600/600\u001b[0m \u001b[32m━━━━━━━━━━━━━━━━━━━━\u001b[0m\u001b[37m\u001b[0m \u001b[1m3s\u001b[0m 2ms/step - accuracy: 0.9025 - loss: 0.0175\n",
            "Epoch 37/100\n",
            "\u001b[1m600/600\u001b[0m \u001b[32m━━━━━━━━━━━━━━━━━━━━\u001b[0m\u001b[37m\u001b[0m \u001b[1m1s\u001b[0m 2ms/step - accuracy: 0.9064 - loss: 0.0170\n",
            "Epoch 38/100\n",
            "\u001b[1m600/600\u001b[0m \u001b[32m━━━━━━━━━━━━━━━━━━━━\u001b[0m\u001b[37m\u001b[0m \u001b[1m1s\u001b[0m 2ms/step - accuracy: 0.9075 - loss: 0.0166\n",
            "Epoch 39/100\n",
            "\u001b[1m600/600\u001b[0m \u001b[32m━━━━━━━━━━━━━━━━━━━━\u001b[0m\u001b[37m\u001b[0m \u001b[1m3s\u001b[0m 2ms/step - accuracy: 0.9099 - loss: 0.0163\n",
            "Epoch 40/100\n",
            "\u001b[1m600/600\u001b[0m \u001b[32m━━━━━━━━━━━━━━━━━━━━\u001b[0m\u001b[37m\u001b[0m \u001b[1m2s\u001b[0m 3ms/step - accuracy: 0.9124 - loss: 0.0160\n",
            "Epoch 41/100\n",
            "\u001b[1m600/600\u001b[0m \u001b[32m━━━━━━━━━━━━━━━━━━━━\u001b[0m\u001b[37m\u001b[0m \u001b[1m2s\u001b[0m 3ms/step - accuracy: 0.9156 - loss: 0.0154\n",
            "Epoch 42/100\n",
            "\u001b[1m600/600\u001b[0m \u001b[32m━━━━━━━━━━━━━━━━━━━━\u001b[0m\u001b[37m\u001b[0m \u001b[1m2s\u001b[0m 2ms/step - accuracy: 0.9124 - loss: 0.0155\n",
            "Epoch 43/100\n",
            "\u001b[1m600/600\u001b[0m \u001b[32m━━━━━━━━━━━━━━━━━━━━\u001b[0m\u001b[37m\u001b[0m \u001b[1m3s\u001b[0m 2ms/step - accuracy: 0.9157 - loss: 0.0152\n",
            "Epoch 44/100\n",
            "\u001b[1m600/600\u001b[0m \u001b[32m━━━━━━━━━━━━━━━━━━━━\u001b[0m\u001b[37m\u001b[0m \u001b[1m1s\u001b[0m 2ms/step - accuracy: 0.9160 - loss: 0.0150\n",
            "Epoch 45/100\n",
            "\u001b[1m600/600\u001b[0m \u001b[32m━━━━━━━━━━━━━━━━━━━━\u001b[0m\u001b[37m\u001b[0m \u001b[1m1s\u001b[0m 2ms/step - accuracy: 0.9180 - loss: 0.0146\n",
            "Epoch 46/100\n",
            "\u001b[1m600/600\u001b[0m \u001b[32m━━━━━━━━━━━━━━━━━━━━\u001b[0m\u001b[37m\u001b[0m \u001b[1m1s\u001b[0m 2ms/step - accuracy: 0.9189 - loss: 0.0143\n",
            "Epoch 47/100\n",
            "\u001b[1m600/600\u001b[0m \u001b[32m━━━━━━━━━━━━━━━━━━━━\u001b[0m\u001b[37m\u001b[0m \u001b[1m2s\u001b[0m 3ms/step - accuracy: 0.9200 - loss: 0.0143\n",
            "Epoch 48/100\n",
            "\u001b[1m600/600\u001b[0m \u001b[32m━━━━━━━━━━━━━━━━━━━━\u001b[0m\u001b[37m\u001b[0m \u001b[1m2s\u001b[0m 2ms/step - accuracy: 0.9199 - loss: 0.0141\n",
            "Epoch 49/100\n",
            "\u001b[1m600/600\u001b[0m \u001b[32m━━━━━━━━━━━━━━━━━━━━\u001b[0m\u001b[37m\u001b[0m \u001b[1m1s\u001b[0m 2ms/step - accuracy: 0.9218 - loss: 0.0139\n",
            "Epoch 50/100\n",
            "\u001b[1m600/600\u001b[0m \u001b[32m━━━━━━━━━━━━━━━━━━━━\u001b[0m\u001b[37m\u001b[0m \u001b[1m1s\u001b[0m 2ms/step - accuracy: 0.9227 - loss: 0.0137\n",
            "Epoch 51/100\n",
            "\u001b[1m600/600\u001b[0m \u001b[32m━━━━━━━━━━━━━━━━━━━━\u001b[0m\u001b[37m\u001b[0m \u001b[1m3s\u001b[0m 2ms/step - accuracy: 0.9225 - loss: 0.0136\n",
            "Epoch 52/100\n",
            "\u001b[1m600/600\u001b[0m \u001b[32m━━━━━━━━━━━━━━━━━━━━\u001b[0m\u001b[37m\u001b[0m \u001b[1m1s\u001b[0m 2ms/step - accuracy: 0.9252 - loss: 0.0131\n",
            "Epoch 53/100\n",
            "\u001b[1m600/600\u001b[0m \u001b[32m━━━━━━━━━━━━━━━━━━━━\u001b[0m\u001b[37m\u001b[0m \u001b[1m1s\u001b[0m 2ms/step - accuracy: 0.9262 - loss: 0.0130\n",
            "Epoch 54/100\n",
            "\u001b[1m600/600\u001b[0m \u001b[32m━━━━━━━━━━━━━━━━━━━━\u001b[0m\u001b[37m\u001b[0m \u001b[1m3s\u001b[0m 5ms/step - accuracy: 0.9257 - loss: 0.0130\n",
            "Epoch 55/100\n",
            "\u001b[1m600/600\u001b[0m \u001b[32m━━━━━━━━━━━━━━━━━━━━\u001b[0m\u001b[37m\u001b[0m \u001b[1m4s\u001b[0m 2ms/step - accuracy: 0.9266 - loss: 0.0127\n",
            "Epoch 56/100\n",
            "\u001b[1m600/600\u001b[0m \u001b[32m━━━━━━━━━━━━━━━━━━━━\u001b[0m\u001b[37m\u001b[0m \u001b[1m1s\u001b[0m 2ms/step - accuracy: 0.9270 - loss: 0.0127\n",
            "Epoch 57/100\n",
            "\u001b[1m600/600\u001b[0m \u001b[32m━━━━━━━━━━━━━━━━━━━━\u001b[0m\u001b[37m\u001b[0m \u001b[1m1s\u001b[0m 2ms/step - accuracy: 0.9292 - loss: 0.0123\n",
            "Epoch 58/100\n",
            "\u001b[1m600/600\u001b[0m \u001b[32m━━━━━━━━━━━━━━━━━━━━\u001b[0m\u001b[37m\u001b[0m \u001b[1m1s\u001b[0m 2ms/step - accuracy: 0.9292 - loss: 0.0123\n",
            "Epoch 59/100\n",
            "\u001b[1m600/600\u001b[0m \u001b[32m━━━━━━━━━━━━━━━━━━━━\u001b[0m\u001b[37m\u001b[0m \u001b[1m1s\u001b[0m 2ms/step - accuracy: 0.9294 - loss: 0.0121\n",
            "Epoch 60/100\n",
            "\u001b[1m600/600\u001b[0m \u001b[32m━━━━━━━━━━━━━━━━━━━━\u001b[0m\u001b[37m\u001b[0m \u001b[1m2s\u001b[0m 3ms/step - accuracy: 0.9301 - loss: 0.0121\n",
            "Epoch 61/100\n",
            "\u001b[1m600/600\u001b[0m \u001b[32m━━━━━━━━━━━━━━━━━━━━\u001b[0m\u001b[37m\u001b[0m \u001b[1m3s\u001b[0m 4ms/step - accuracy: 0.9321 - loss: 0.0119\n",
            "Epoch 62/100\n",
            "\u001b[1m600/600\u001b[0m \u001b[32m━━━━━━━━━━━━━━━━━━━━\u001b[0m\u001b[37m\u001b[0m \u001b[1m2s\u001b[0m 2ms/step - accuracy: 0.9321 - loss: 0.0118\n",
            "Epoch 63/100\n",
            "\u001b[1m600/600\u001b[0m \u001b[32m━━━━━━━━━━━━━━━━━━━━\u001b[0m\u001b[37m\u001b[0m \u001b[1m3s\u001b[0m 2ms/step - accuracy: 0.9323 - loss: 0.0117\n",
            "Epoch 64/100\n",
            "\u001b[1m600/600\u001b[0m \u001b[32m━━━━━━━━━━━━━━━━━━━━\u001b[0m\u001b[37m\u001b[0m \u001b[1m3s\u001b[0m 2ms/step - accuracy: 0.9336 - loss: 0.0114\n",
            "Epoch 65/100\n",
            "\u001b[1m600/600\u001b[0m \u001b[32m━━━━━━━━━━━━━━━━━━━━\u001b[0m\u001b[37m\u001b[0m \u001b[1m3s\u001b[0m 3ms/step - accuracy: 0.9359 - loss: 0.0112\n",
            "Epoch 66/100\n",
            "\u001b[1m600/600\u001b[0m \u001b[32m━━━━━━━━━━━━━━━━━━━━\u001b[0m\u001b[37m\u001b[0m \u001b[1m2s\u001b[0m 3ms/step - accuracy: 0.9351 - loss: 0.0112\n",
            "Epoch 67/100\n",
            "\u001b[1m600/600\u001b[0m \u001b[32m━━━━━━━━━━━━━━━━━━━━\u001b[0m\u001b[37m\u001b[0m \u001b[1m1s\u001b[0m 2ms/step - accuracy: 0.9360 - loss: 0.0111\n",
            "Epoch 68/100\n",
            "\u001b[1m600/600\u001b[0m \u001b[32m━━━━━━━━━━━━━━━━━━━━\u001b[0m\u001b[37m\u001b[0m \u001b[1m3s\u001b[0m 2ms/step - accuracy: 0.9374 - loss: 0.0110\n",
            "Epoch 69/100\n",
            "\u001b[1m600/600\u001b[0m \u001b[32m━━━━━━━━━━━━━━━━━━━━\u001b[0m\u001b[37m\u001b[0m \u001b[1m3s\u001b[0m 2ms/step - accuracy: 0.9356 - loss: 0.0110\n",
            "Epoch 70/100\n",
            "\u001b[1m600/600\u001b[0m \u001b[32m━━━━━━━━━━━━━━━━━━━━\u001b[0m\u001b[37m\u001b[0m \u001b[1m3s\u001b[0m 2ms/step - accuracy: 0.9384 - loss: 0.0107\n",
            "Epoch 71/100\n",
            "\u001b[1m600/600\u001b[0m \u001b[32m━━━━━━━━━━━━━━━━━━━━\u001b[0m\u001b[37m\u001b[0m \u001b[1m3s\u001b[0m 4ms/step - accuracy: 0.9367 - loss: 0.0108\n",
            "Epoch 72/100\n",
            "\u001b[1m600/600\u001b[0m \u001b[32m━━━━━━━━━━━━━━━━━━━━\u001b[0m\u001b[37m\u001b[0m \u001b[1m1s\u001b[0m 2ms/step - accuracy: 0.9384 - loss: 0.0106\n",
            "Epoch 73/100\n",
            "\u001b[1m600/600\u001b[0m \u001b[32m━━━━━━━━━━━━━━━━━━━━\u001b[0m\u001b[37m\u001b[0m \u001b[1m3s\u001b[0m 2ms/step - accuracy: 0.9389 - loss: 0.0105\n",
            "Epoch 74/100\n",
            "\u001b[1m600/600\u001b[0m \u001b[32m━━━━━━━━━━━━━━━━━━━━\u001b[0m\u001b[37m\u001b[0m \u001b[1m3s\u001b[0m 2ms/step - accuracy: 0.9378 - loss: 0.0106\n",
            "Epoch 75/100\n",
            "\u001b[1m600/600\u001b[0m \u001b[32m━━━━━━━━━━━━━━━━━━━━\u001b[0m\u001b[37m\u001b[0m \u001b[1m3s\u001b[0m 2ms/step - accuracy: 0.9387 - loss: 0.0105\n",
            "Epoch 76/100\n",
            "\u001b[1m600/600\u001b[0m \u001b[32m━━━━━━━━━━━━━━━━━━━━\u001b[0m\u001b[37m\u001b[0m \u001b[1m2s\u001b[0m 3ms/step - accuracy: 0.9414 - loss: 0.0101\n",
            "Epoch 77/100\n",
            "\u001b[1m600/600\u001b[0m \u001b[32m━━━━━━━━━━━━━━━━━━━━\u001b[0m\u001b[37m\u001b[0m \u001b[1m2s\u001b[0m 2ms/step - accuracy: 0.9410 - loss: 0.0102\n",
            "Epoch 78/100\n",
            "\u001b[1m600/600\u001b[0m \u001b[32m━━━━━━━━━━━━━━━━━━━━\u001b[0m\u001b[37m\u001b[0m \u001b[1m3s\u001b[0m 2ms/step - accuracy: 0.9420 - loss: 0.0100\n",
            "Epoch 79/100\n",
            "\u001b[1m600/600\u001b[0m \u001b[32m━━━━━━━━━━━━━━━━━━━━\u001b[0m\u001b[37m\u001b[0m \u001b[1m1s\u001b[0m 2ms/step - accuracy: 0.9426 - loss: 0.0099\n",
            "Epoch 80/100\n",
            "\u001b[1m600/600\u001b[0m \u001b[32m━━━━━━━━━━━━━━━━━━━━\u001b[0m\u001b[37m\u001b[0m \u001b[1m1s\u001b[0m 2ms/step - accuracy: 0.9443 - loss: 0.0097\n",
            "Epoch 81/100\n",
            "\u001b[1m600/600\u001b[0m \u001b[32m━━━━━━━━━━━━━━━━━━━━\u001b[0m\u001b[37m\u001b[0m \u001b[1m3s\u001b[0m 2ms/step - accuracy: 0.9439 - loss: 0.0097\n",
            "Epoch 82/100\n",
            "\u001b[1m600/600\u001b[0m \u001b[32m━━━━━━━━━━━━━━━━━━━━\u001b[0m\u001b[37m\u001b[0m \u001b[1m2s\u001b[0m 3ms/step - accuracy: 0.9446 - loss: 0.0097\n",
            "Epoch 83/100\n",
            "\u001b[1m600/600\u001b[0m \u001b[32m━━━━━━━━━━━━━━━━━━━━\u001b[0m\u001b[37m\u001b[0m \u001b[1m2s\u001b[0m 2ms/step - accuracy: 0.9447 - loss: 0.0096\n",
            "Epoch 84/100\n",
            "\u001b[1m600/600\u001b[0m \u001b[32m━━━━━━━━━━━━━━━━━━━━\u001b[0m\u001b[37m\u001b[0m \u001b[1m1s\u001b[0m 2ms/step - accuracy: 0.9458 - loss: 0.0095\n",
            "Epoch 85/100\n",
            "\u001b[1m600/600\u001b[0m \u001b[32m━━━━━━━━━━━━━━━━━━━━\u001b[0m\u001b[37m\u001b[0m \u001b[1m3s\u001b[0m 2ms/step - accuracy: 0.9453 - loss: 0.0095\n",
            "Epoch 86/100\n",
            "\u001b[1m600/600\u001b[0m \u001b[32m━━━━━━━━━━━━━━━━━━━━\u001b[0m\u001b[37m\u001b[0m \u001b[1m1s\u001b[0m 2ms/step - accuracy: 0.9455 - loss: 0.0095\n",
            "Epoch 87/100\n",
            "\u001b[1m600/600\u001b[0m \u001b[32m━━━━━━━━━━━━━━━━━━━━\u001b[0m\u001b[37m\u001b[0m \u001b[1m3s\u001b[0m 2ms/step - accuracy: 0.9476 - loss: 0.0091\n",
            "Epoch 88/100\n",
            "\u001b[1m600/600\u001b[0m \u001b[32m━━━━━━━━━━━━━━━━━━━━\u001b[0m\u001b[37m\u001b[0m \u001b[1m3s\u001b[0m 3ms/step - accuracy: 0.9472 - loss: 0.0092\n",
            "Epoch 89/100\n",
            "\u001b[1m600/600\u001b[0m \u001b[32m━━━━━━━━━━━━━━━━━━━━\u001b[0m\u001b[37m\u001b[0m \u001b[1m2s\u001b[0m 2ms/step - accuracy: 0.9490 - loss: 0.0090\n",
            "Epoch 90/100\n",
            "\u001b[1m600/600\u001b[0m \u001b[32m━━━━━━━━━━━━━━━━━━━━\u001b[0m\u001b[37m\u001b[0m \u001b[1m3s\u001b[0m 2ms/step - accuracy: 0.9475 - loss: 0.0091\n",
            "Epoch 91/100\n",
            "\u001b[1m600/600\u001b[0m \u001b[32m━━━━━━━━━━━━━━━━━━━━\u001b[0m\u001b[37m\u001b[0m \u001b[1m1s\u001b[0m 2ms/step - accuracy: 0.9483 - loss: 0.0089\n",
            "Epoch 92/100\n",
            "\u001b[1m600/600\u001b[0m \u001b[32m━━━━━━━━━━━━━━━━━━━━\u001b[0m\u001b[37m\u001b[0m \u001b[1m1s\u001b[0m 2ms/step - accuracy: 0.9483 - loss: 0.0090\n",
            "Epoch 93/100\n",
            "\u001b[1m600/600\u001b[0m \u001b[32m━━━━━━━━━━━━━━━━━━━━\u001b[0m\u001b[37m\u001b[0m \u001b[1m1s\u001b[0m 2ms/step - accuracy: 0.9503 - loss: 0.0087\n",
            "Epoch 94/100\n",
            "\u001b[1m600/600\u001b[0m \u001b[32m━━━━━━━━━━━━━━━━━━━━\u001b[0m\u001b[37m\u001b[0m \u001b[1m2s\u001b[0m 3ms/step - accuracy: 0.9500 - loss: 0.0087\n",
            "Epoch 95/100\n",
            "\u001b[1m600/600\u001b[0m \u001b[32m━━━━━━━━━━━━━━━━━━━━\u001b[0m\u001b[37m\u001b[0m \u001b[1m2s\u001b[0m 3ms/step - accuracy: 0.9500 - loss: 0.0087\n",
            "Epoch 96/100\n",
            "\u001b[1m600/600\u001b[0m \u001b[32m━━━━━━━━━━━━━━━━━━━━\u001b[0m\u001b[37m\u001b[0m \u001b[1m2s\u001b[0m 2ms/step - accuracy: 0.9499 - loss: 0.0087\n",
            "Epoch 97/100\n",
            "\u001b[1m600/600\u001b[0m \u001b[32m━━━━━━━━━━━━━━━━━━━━\u001b[0m\u001b[37m\u001b[0m \u001b[1m3s\u001b[0m 2ms/step - accuracy: 0.9524 - loss: 0.0085\n",
            "Epoch 98/100\n",
            "\u001b[1m600/600\u001b[0m \u001b[32m━━━━━━━━━━━━━━━━━━━━\u001b[0m\u001b[37m\u001b[0m \u001b[1m3s\u001b[0m 2ms/step - accuracy: 0.9524 - loss: 0.0084\n",
            "Epoch 99/100\n",
            "\u001b[1m600/600\u001b[0m \u001b[32m━━━━━━━━━━━━━━━━━━━━\u001b[0m\u001b[37m\u001b[0m \u001b[1m3s\u001b[0m 3ms/step - accuracy: 0.9519 - loss: 0.0085\n",
            "Epoch 100/100\n",
            "\u001b[1m600/600\u001b[0m \u001b[32m━━━━━━━━━━━━━━━━━━━━\u001b[0m\u001b[37m\u001b[0m \u001b[1m2s\u001b[0m 2ms/step - accuracy: 0.9521 - loss: 0.0084\n"
          ]
        },
        {
          "output_type": "execute_result",
          "data": {
            "text/plain": [
              "<keras.src.callbacks.history.History at 0x7d317271add0>"
            ]
          },
          "metadata": {},
          "execution_count": 18
        }
      ]
    },
    {
      "cell_type": "markdown",
      "metadata": {
        "id": "-6ykAvga0Avq"
      },
      "source": [
        "## 6. 比較及呈現結果\n",
        "\n",
        "看看神經網路學習成果。"
      ]
    },
    {
      "cell_type": "markdown",
      "source": [
        "這是batch_size=100,epoch=10的圖形，看起來還沒有收斂。"
      ],
      "metadata": {
        "id": "BQlgzQwYwQJd"
      }
    },
    {
      "cell_type": "code",
      "source": [
        "#prompt: 畫出epoch-loss圖\n",
        "plt.plot(model.history.history['loss'])\n",
        "plt.title('model loss')\n",
        "plt.ylabel('loss')\n",
        "plt.xlabel('epoch')\n",
        "plt.grid(True)\n",
        "plt.legend(['train'], loc='upper right')"
      ],
      "metadata": {
        "colab": {
          "base_uri": "https://localhost:8080/",
          "height": 489
        },
        "id": "qlso9TI7snU8",
        "outputId": "e9b88dea-237b-443f-e36e-9256bc9e623f"
      },
      "execution_count": null,
      "outputs": [
        {
          "output_type": "execute_result",
          "data": {
            "text/plain": [
              "<matplotlib.legend.Legend at 0x7d3175ff85d0>"
            ]
          },
          "metadata": {},
          "execution_count": 16
        },
        {
          "output_type": "display_data",
          "data": {
            "text/plain": [
              "<Figure size 640x480 with 1 Axes>"
            ],
            "image/png": "[encoded data removed]"
          },
          "metadata": {}
        }
      ]
    },
    {
      "cell_type": "code",
      "source": [
        "# 畫出epoch-accuracy圖\n",
        "plt.plot(model.history.history['accuracy'])\n",
        "plt.title('model accuracy')\n",
        "plt.ylabel('accuracy')\n",
        "plt.xlabel('epoch')\n",
        "plt.grid(True)\n",
        "plt.legend(['train'], loc='upper right')"
      ],
      "metadata": {
        "colab": {
          "base_uri": "https://localhost:8080/",
          "height": 489
        },
        "id": "H9Y31b-3tJtb",
        "outputId": "5175dd31-7c94-465c-9ef5-97bbce2b8334"
      },
      "execution_count": null,
      "outputs": [
        {
          "output_type": "execute_result",
          "data": {
            "text/plain": [
              "<matplotlib.legend.Legend at 0x7d319dadce50>"
            ]
          },
          "metadata": {},
          "execution_count": 17
        },
        {
          "output_type": "display_data",
          "data": {
            "text/plain": [
              "<Figure size 640x480 with 1 Axes>"
            ],
            "image/png": "[encoded data removed]"
          },
          "metadata": {}
        }
      ]
    },
    {
      "cell_type": "markdown",
      "source": [
        "接下來看epoch改100的圖"
      ],
      "metadata": {
        "id": "jZtwqxOCw94x"
      }
    },
    {
      "cell_type": "code",
      "source": [
        "#prompt: 畫出epoch-loss圖\n",
        "plt.plot(model.history.history['loss'])\n",
        "plt.title('model loss')\n",
        "plt.ylabel('loss')\n",
        "plt.xlabel('epoch')\n",
        "plt.grid(True)\n",
        "plt.legend(['train'], loc='upper right')"
      ],
      "metadata": {
        "colab": {
          "base_uri": "https://localhost:8080/",
          "height": 489
        },
        "id": "b7362-HWxDy6",
        "outputId": "ba8b4aff-4355-4605-a23b-99229e1e9cac"
      },
      "execution_count": null,
      "outputs": [
        {
          "output_type": "execute_result",
          "data": {
            "text/plain": [
              "<matplotlib.legend.Legend at 0x7d3170339fd0>"
            ]
          },
          "metadata": {},
          "execution_count": 20
        },
        {
          "output_type": "display_data",
          "data": {
            "text/plain": [
              "<Figure size 640x480 with 1 Axes>"
            ],
            "image/png": "[encoded data removed]"
          },
          "metadata": {}
        }
      ]
    },
    {
      "cell_type": "code",
      "source": [
        "# 畫出epoch-accuracy圖\n",
        "plt.plot(model.history.history['accuracy'])\n",
        "plt.title('model accuracy')\n",
        "plt.ylabel('accuracy')\n",
        "plt.xlabel('epoch')\n",
        "plt.grid(True)\n",
        "plt.legend(['train'], loc='upper right')"
      ],
      "metadata": {
        "colab": {
          "base_uri": "https://localhost:8080/",
          "height": 489
        },
        "id": "iwVBIYoFwo1i",
        "outputId": "d95b3009-c2e8-4e99-8395-6ac59dd561ea"
      },
      "execution_count": null,
      "outputs": [
        {
          "output_type": "execute_result",
          "data": {
            "text/plain": [
              "<matplotlib.legend.Legend at 0x7d31701027d0>"
            ]
          },
          "metadata": {},
          "execution_count": 21
        },
        {
          "output_type": "display_data",
          "data": {
            "text/plain": [
              "<Figure size 640x480 with 1 Axes>"
            ],
            "image/png": "[encoded data removed]"
          },
          "metadata": {}
        }
      ]
    },
    {
      "cell_type": "code",
      "metadata": {
        "colab": {
          "base_uri": "https://localhost:8080/"
        },
        "id": "I9c1E_Cj0Avq",
        "outputId": "64a0e5a0-162c-4b3b-c312-cf36942594a8"
      },
      "source": [
        "loss, acc = model.evaluate(x_test, y_test)"
      ],
      "execution_count": null,
      "outputs": [
        {
          "output_type": "stream",
          "name": "stdout",
          "text": [
            "\u001b[1m313/313\u001b[0m \u001b[32m━━━━━━━━━━━━━━━━━━━━\u001b[0m\u001b[37m\u001b[0m \u001b[1m1s\u001b[0m 2ms/step - accuracy: 0.9713 - loss: 0.0046\n"
          ]
        }
      ]
    },
    {
      "cell_type": "code",
      "metadata": {
        "colab": {
          "base_uri": "https://localhost:8080/"
        },
        "id": "Z5XOR_Pd0Avq",
        "outputId": "81a128e6-eeac-4d19-8e09-ebb08c3e033f"
      },
      "source": [
        "\"\"\"範例模型的正確率\"\"\"\n",
        "print(f\"測試資料正確率 {acc*100:.2f}%\")"
      ],
      "execution_count": null,
      "outputs": [
        {
          "output_type": "stream",
          "name": "stdout",
          "text": [
            "測試資料正確率 11.35%\n"
          ]
        }
      ]
    },
    {
      "cell_type": "code",
      "source": [
        "\"\"\"test01模型的正確率\"\"\"\n",
        "print(f\"測試資料正確率 {acc*100:.2f}%\")"
      ],
      "metadata": {
        "colab": {
          "base_uri": "https://localhost:8080/"
        },
        "id": "OwApRx985XuN",
        "outputId": "04075b48-c27d-4433-f4c7-397cea72d4b4"
      },
      "execution_count": null,
      "outputs": [
        {
          "output_type": "stream",
          "name": "stdout",
          "text": [
            "測試資料正確率 92.22%\n"
          ]
        }
      ]
    },
    {
      "cell_type": "code",
      "source": [
        "\"\"\"test02模型的正確率\"\"\"\n",
        "#設epoch=100\n",
        "print(f\"測試資料正確率 {acc*100:.2f}%\")"
      ],
      "metadata": {
        "colab": {
          "base_uri": "https://localhost:8080/"
        },
        "id": "hIyxUEQ-zOMD",
        "outputId": "7b8f00f2-5887-4ec8-f35f-685a0240212b"
      },
      "execution_count": null,
      "outputs": [
        {
          "output_type": "stream",
          "name": "stdout",
          "text": [
            "測試資料正確率 97.49%\n"
          ]
        }
      ]
    },
    {
      "cell_type": "markdown",
      "metadata": {
        "id": "XTog-oR90Avr"
      },
      "source": [
        "\"predict\" 放的是神經網路的學習結果。做完之後用 argmax 找到數值最大的那一項。"
      ]
    },
    {
      "cell_type": "code",
      "metadata": {
        "id": "6MlKktZ50Avr",
        "colab": {
          "base_uri": "https://localhost:8080/"
        },
        "outputId": "bf8be28d-eb09-451a-e352-6cb2cb1198c3"
      },
      "source": [
        "predict = np.argmax(model.predict(x_test), axis=-1)"
      ],
      "execution_count": null,
      "outputs": [
        {
          "output_type": "stream",
          "name": "stdout",
          "text": [
            "\u001b[1m313/313\u001b[0m \u001b[32m━━━━━━━━━━━━━━━━━━━━\u001b[0m\u001b[37m\u001b[0m \u001b[1m1s\u001b[0m 2ms/step\n"
          ]
        }
      ]
    },
    {
      "cell_type": "code",
      "metadata": {
        "colab": {
          "base_uri": "https://localhost:8080/"
        },
        "id": "9R_o6HD_0Avr",
        "outputId": "7012061c-6653-45ab-f2ca-c19c02b54bcf"
      },
      "source": [
        "predict"
      ],
      "execution_count": null,
      "outputs": [
        {
          "output_type": "execute_result",
          "data": {
            "text/plain": [
              "array([7, 6, 1, ..., 4, 8, 6])"
            ]
          },
          "metadata": {},
          "execution_count": 45
        }
      ]
    },
    {
      "cell_type": "markdown",
      "metadata": {
        "id": "2RX6YjUj0Avr"
      },
      "source": [
        " 由於`x_test` 每筆資料已經換成 784 維的向量, 要調整回 28x28 的矩陣才能當成圖形顯示出來!"
      ]
    },
    {
      "cell_type": "code",
      "metadata": {
        "id": "v5i4Cxpo0Avs"
      },
      "source": [
        "def test(測試編號):\n",
        "    plt.imshow(x_test[測試編號].reshape(28,28), cmap='Greys')\n",
        "    print('神經網路判斷為:', predict[測試編號])"
      ],
      "execution_count": null,
      "outputs": []
    },
    {
      "cell_type": "code",
      "metadata": {
        "colab": {
          "base_uri": "https://localhost:8080/",
          "height": 512,
          "referenced_widgets": [
            "52debc241b29458a95f970feb529b2bc",
            "ebf0fbdf71b747a9b92601652428ea0a",
            "7b0544785fff442d964d851ff8153139",
            "4e95ae35de3c454bac71c20f7a3fb3c1",
            "5a7c41e212d949d7b45ba919f9b2e405",
            "fc4ecc346d25462896ffc9afe094cf7c",
            "116f228c0fa544c8b00b60d92700ea74",
            "2631f009e98e4fdab6a1a2e222c412ce",
            "1e58c01920994845b9e50dfbff6c84a4",
            "d8abd18b05924f01833a53ce1e4fc352"
          ]
        },
        "id": "-KT1EFNc0Avs",
        "outputId": "77df097e-f57b-43e1-c666-29084ed67fda"
      },
      "source": [
        "interact_manual(test, 測試編號=(0, 9999));"
      ],
      "execution_count": null,
      "outputs": [
        {
          "output_type": "display_data",
          "data": {
            "text/plain": [
              "interactive(children=(IntSlider(value=4999, description='測試編號', max=9999), Button(description='Run Interact', …"
            ],
            "application/vnd.jupyter.widget-view+json": {
              "version_major": 2,
              "version_minor": 0,
              "model_id": "52debc241b29458a95f970feb529b2bc"
            }
          },
          "metadata": {}
        }
      ]
    },
    {
      "cell_type": "markdown",
      "metadata": {
        "id": "8JjaNcvN0Avs"
      },
      "source": [
        "到底測試資料總體狀況如何呢? 我們可以給神經網路「總評量」。"
      ]
    },
    {
      "cell_type": "code",
      "metadata": {
        "colab": {
          "base_uri": "https://localhost:8080/"
        },
        "id": "cpilhXP00Avs",
        "outputId": "dd231d30-4371-44f0-fdd8-962cab55d5b7"
      },
      "source": [
        "score = model.evaluate(x_test, y_test)"
      ],
      "execution_count": null,
      "outputs": [
        {
          "output_type": "stream",
          "name": "stdout",
          "text": [
            "\u001b[1m313/313\u001b[0m \u001b[32m━━━━━━━━━━━━━━━━━━━━\u001b[0m\u001b[37m\u001b[0m \u001b[1m1s\u001b[0m 2ms/step - accuracy: 0.9393 - loss: 0.0096\n"
          ]
        }
      ]
    },
    {
      "cell_type": "markdown",
      "source": [
        "loss大小不一定重要，因為每個問題的單位不一樣"
      ],
      "metadata": {
        "id": "nq0WhC0yuLbV"
      }
    },
    {
      "cell_type": "code",
      "metadata": {
        "colab": {
          "base_uri": "https://localhost:8080/"
        },
        "id": "GTtgPGrF0Avt",
        "outputId": "3e205d4f-39ae-4581-d36d-078825af5372"
      },
      "source": [
        "\"\"\"範例模型的正確率\"\"\"\n",
        "print('loss:', score[0])\n",
        "print('正確率', score[1])"
      ],
      "execution_count": null,
      "outputs": [
        {
          "output_type": "stream",
          "name": "stdout",
          "text": [
            "loss: 0.08995620161294937\n",
            "正確率 0.11349999904632568\n"
          ]
        }
      ]
    },
    {
      "cell_type": "code",
      "source": [
        "\"\"\"test01模型的正確率\"\"\"\n",
        "#設batch_size=100，epoch=10\n",
        "print('loss:', score[0])\n",
        "print('正確率', score[1])"
      ],
      "metadata": {
        "colab": {
          "base_uri": "https://localhost:8080/"
        },
        "id": "BQQfWZdg5MEN",
        "outputId": "6c1b985a-1b98-43f6-8571-483bb8cccd30"
      },
      "execution_count": null,
      "outputs": [
        {
          "output_type": "stream",
          "name": "stdout",
          "text": [
            "loss: 0.007877368479967117\n",
            "正確率 0.9480000138282776\n"
          ]
        }
      ]
    },
    {
      "cell_type": "code",
      "source": [
        "\"\"\"test02模型的正確率\"\"\"\n",
        "#設batch_size=100，epoch=100\n",
        "print('loss:', score[0])\n",
        "print('正確率', score[1])"
      ],
      "metadata": {
        "colab": {
          "base_uri": "https://localhost:8080/"
        },
        "id": "a6t8je_2SbCF",
        "outputId": "eea8f180-d150-4c87-fc28-73f9c81492b2"
      },
      "execution_count": null,
      "outputs": [
        {
          "output_type": "stream",
          "name": "stdout",
          "text": [
            "loss: 0.00838368572294712\n",
            "正確率 0.9480000138282776\n"
          ]
        }
      ]
    },
    {
      "cell_type": "markdown",
      "metadata": {
        "id": "FWK0fgKgCHa7"
      },
      "source": [
        "### 7. 用 Gradio 來展示(簡易網頁APP)\n",
        "記得要colab打開並且執行的情況下才能動"
      ]
    },
    {
      "cell_type": "code",
      "source": [
        "def resize_image(inp):\n",
        "    # 圖在 inp[\"layers\"][0]\n",
        "    image = np.array(inp[\"layers\"][0], dtype=np.float32)\n",
        "    image = image.astype(np.uint8)\n",
        "\n",
        "    # 轉成 PIL 格式\n",
        "    image_pil = Image.fromarray(image)\n",
        "\n",
        "    # Alpha 通道設為白色, 再把圖從 RGBA 轉成 RGB\n",
        "    background = Image.new(\"RGB\", image_pil.size, (255, 255, 255))\n",
        "    background.paste(image_pil, mask=image_pil.split()[3]) # 把圖片粘貼到白色背景上，使用透明通道作為遮罩\n",
        "    image_pil = background\n",
        "\n",
        "    # 轉換為灰階圖像\n",
        "    image_gray = image_pil.convert(\"L\")\n",
        "\n",
        "    # 將灰階圖像縮放到 28x28, 轉回 numpy array\n",
        "    img_array = np.array(image_gray.resize((28, 28), resample=Image.LANCZOS))\n",
        "\n",
        "    # 配合 MNIST 數據集\n",
        "    img_array = 255 - img_array\n",
        "\n",
        "    # 拉平並縮放\n",
        "    img_array = img_array.reshape(1, 784) / 255.0\n",
        "\n",
        "    return img_array"
      ],
      "metadata": {
        "id": "YCDldfE4eVh6"
      },
      "execution_count": null,
      "outputs": []
    },
    {
      "cell_type": "code",
      "source": [
        "def recognize_digit(inp):\n",
        "    img_array = resize_image(inp)\n",
        "    prediction = model.predict(img_array).flatten()\n",
        "    labels = list('0123456789')\n",
        "    return {labels[i]: float(prediction[i]) for i in range(10)}"
      ],
      "metadata": {
        "id": "QUejwCO9S7R4"
      },
      "execution_count": null,
      "outputs": []
    },
    {
      "cell_type": "code",
      "metadata": {
        "id": "ITOFueb5KSBD",
        "colab": {
          "base_uri": "https://localhost:8080/",
          "height": 697
        },
        "outputId": "952c6aa1-7248-45ae-e5bb-d9739754cb4c"
      },
      "source": [
        "# Gradio設定介面的方式\n",
        "iface = gr.Interface(\n",
        "    fn=recognize_digit, #執行function\n",
        "    inputs=gr.Sketchpad(), #輸入:手寫板\n",
        "    outputs=gr.Label(num_top_classes=3), #輸出:標籤 數字最大的前三個\n",
        "    title=\"MNIST 手寫辨識\",\n",
        "    description=\"請在畫板上繪製數字\"\n",
        ")\n",
        "\n",
        "iface.launch(share=True, debug=True)"
      ],
      "execution_count": null,
      "outputs": [
        {
          "output_type": "stream",
          "name": "stdout",
          "text": [
            "Colab notebook detected. This cell will run indefinitely so that you can see errors and logs. To turn off, set debug=False in launch().\n",
            "* Running on public URL: https://9b72c7aee25c17fc7d.gradio.live\n",
            "\n",
            "This share link expires in 72 hours. For free permanent hosting and GPU upgrades, run `gradio deploy` from the terminal in the working directory to deploy to Hugging Face Spaces (https://huggingface.co/spaces)\n"
          ]
        },
        {
          "output_type": "display_data",
          "data": {
            "text/plain": [
              "<IPython.core.display.HTML object>"
            ],
            "text/html": [
              "<div><iframe src=\"https://9b72c7aee25c17fc7d.gradio.live\" width=\"100%\" height=\"500\" allow=\"autoplay; camera; microphone; clipboard-read; clipboard-write;\" frameborder=\"0\" allowfullscreen></iframe></div>"
            ]
          },
          "metadata": {}
        },
        {
          "output_type": "stream",
          "name": "stdout",
          "text": [
            "\u001b[1m1/1\u001b[0m \u001b[32m━━━━━━━━━━━━━━━━━━━━\u001b[0m\u001b[37m\u001b[0m \u001b[1m0s\u001b[0m 279ms/step\n",
            "\u001b[1m1/1\u001b[0m \u001b[32m━━━━━━━━━━━━━━━━━━━━\u001b[0m\u001b[37m\u001b[0m \u001b[1m0s\u001b[0m 29ms/step\n",
            "\u001b[1m1/1\u001b[0m \u001b[32m━━━━━━━━━━━━━━━━━━━━\u001b[0m\u001b[37m\u001b[0m \u001b[1m0s\u001b[0m 50ms/step\n",
            "Keyboard interruption in main thread... closing server.\n",
            "Killing tunnel 127.0.0.1:7860 <> https://9b72c7aee25c17fc7d.gradio.live\n"
          ]
        },
        {
          "output_type": "execute_result",
          "data": {
            "text/plain": []
          },
          "metadata": {},
          "execution_count": 25
        }
      ]
    },
    {
      "cell_type": "markdown",
      "source": [
        "# 本周個人發現\n"
      ],
      "metadata": {
        "id": "5B8pdAOESzmC"
      }
    },
    {
      "cell_type": "markdown",
      "source": [
        "這次測試了 `1.層數`  `2.訓練次數`  對結果正確率的影響\n",
        "\n",
        "\n",
        "\n",
        "\n",
        "\n",
        "\n",
        "\n"
      ],
      "metadata": {
        "id": "r704M__TT01V"
      }
    },
    {
      "cell_type": "markdown",
      "source": [
        "### 1. 層數\n",
        "一開始老師使用三層，我後來試了用五層跟兩層，使用同樣的訓練次數10次，發現用五層跟兩層相比，五層的正確率較高(正確率 92.22%)。\n",
        "\n"
      ],
      "metadata": {
        "id": "dl4lHM1u3Zoe"
      }
    },
    {
      "cell_type": "markdown",
      "source": [
        "\n",
        "### 2. 訓練次數\n",
        "由於兩層的訓練結果較差，我提高了訓練次數，想看看是否能提高正確率，結果確實100次相較10次提高許多(測試資料正確率提高到 97.49%)，畫出來的圖形看起來也有漂亮的收斂曲線。"
      ],
      "metadata": {
        "id": "pwyyiDgE3bIL"
      }
    },
    {
      "cell_type": "markdown",
      "source": [
        "### 注意事項\n",
        "1. 重跑的時候要把執行階段關掉重開，才不會導致在已經有的結果上繼續training，比較的結果不準\n",
        "2. 畫圖的程式碼有請AI幫忙生成，prompt就是上面的註解"
      ],
      "metadata": {
        "id": "-0x0emUi5Grz"
      }
    },
    {
      "cell_type": "markdown",
      "source": [
        "## Gradio結果\n",
        "![image.png](data:image/png;base64,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)"
      ],
      "metadata": {
        "id": "oQpxeZMK54Ri"
      }
    },
    {
      "cell_type": "code",
      "source": [],
      "metadata": {
        "id": "orSsRU9u6mIt"
      },
      "execution_count": null,
      "outputs": []
    }
  ]
}